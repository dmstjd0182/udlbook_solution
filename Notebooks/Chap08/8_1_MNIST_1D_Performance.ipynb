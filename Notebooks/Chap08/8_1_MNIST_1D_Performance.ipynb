{
  "cells": [
    {
      "cell_type": "markdown",
      "metadata": {
        "colab_type": "text",
        "id": "view-in-github"
      },
      "source": [
        "<a href=\"https://colab.research.google.com/github/udlbook/udlbook/blob/main/Notebooks/Chap08/8_1_MNIST_1D_Performance.ipynb\" target=\"_parent\"><img src=\"https://colab.research.google.com/assets/colab-badge.svg\" alt=\"Open In Colab\"/></a>"
      ]
    },
    {
      "cell_type": "markdown",
      "metadata": {
        "id": "L6chybAVFJW2"
      },
      "source": [
        "# **Notebook 8.1: MNIST_1D_Performance**\n",
        "\n",
        "This notebook runs a simple neural network on the MNIST1D dataset as in figure 8.2a. It uses code from https://github.com/greydanus/mnist1d to generate the data.\n",
        "\n",
        "Work through the cells below, running each cell in turn. In various places you will see the words \"TO DO\". Follow the instructions at these places and make predictions about what is going to happen or write code to complete the functions.\n",
        "\n",
        "Contact me at udlbookmail@gmail.com if you find any mistakes or have any suggestions."
      ]
    },
    {
      "cell_type": "code",
      "execution_count": 1,
      "metadata": {
        "id": "ifVjS4cTOqKz"
      },
      "outputs": [
        {
          "name": "stdout",
          "output_type": "stream",
          "text": [
            "Collecting git+https://github.com/greydanus/mnist1d\n",
            "  Cloning https://github.com/greydanus/mnist1d to c:\\users\\admin\\appdata\\local\\temp\\pip-req-build-hvbhkwji\n",
            "  Resolved https://github.com/greydanus/mnist1d to commit dc46206f1e1ad7249c96e3042efca0955a6b5d35\n",
            "  Installing build dependencies: started\n",
            "  Installing build dependencies: finished with status 'done'\n",
            "  Getting requirements to build wheel: started\n",
            "  Getting requirements to build wheel: finished with status 'done'\n",
            "  Preparing metadata (pyproject.toml): started\n",
            "  Preparing metadata (pyproject.toml): finished with status 'done'\n",
            "Requirement already satisfied: requests in c:\\users\\admin\\anaconda3\\envs\\torch\\lib\\site-packages (from mnist1d==0.0.2.post10) (2.32.2)\n",
            "Requirement already satisfied: numpy in c:\\users\\admin\\anaconda3\\envs\\torch\\lib\\site-packages (from mnist1d==0.0.2.post10) (1.26.4)\n",
            "Requirement already satisfied: matplotlib in c:\\users\\admin\\anaconda3\\envs\\torch\\lib\\site-packages (from mnist1d==0.0.2.post10) (3.8.4)\n",
            "Requirement already satisfied: scipy in c:\\users\\admin\\anaconda3\\envs\\torch\\lib\\site-packages (from mnist1d==0.0.2.post10) (1.13.1)\n",
            "Requirement already satisfied: contourpy>=1.0.1 in c:\\users\\admin\\anaconda3\\envs\\torch\\lib\\site-packages (from matplotlib->mnist1d==0.0.2.post10) (1.2.0)\n",
            "Requirement already satisfied: cycler>=0.10 in c:\\users\\admin\\anaconda3\\envs\\torch\\lib\\site-packages (from matplotlib->mnist1d==0.0.2.post10) (0.11.0)\n",
            "Requirement already satisfied: fonttools>=4.22.0 in c:\\users\\admin\\anaconda3\\envs\\torch\\lib\\site-packages (from matplotlib->mnist1d==0.0.2.post10) (4.51.0)\n",
            "Requirement already satisfied: kiwisolver>=1.3.1 in c:\\users\\admin\\anaconda3\\envs\\torch\\lib\\site-packages (from matplotlib->mnist1d==0.0.2.post10) (1.4.4)\n",
            "Requirement already satisfied: packaging>=20.0 in c:\\users\\admin\\anaconda3\\envs\\torch\\lib\\site-packages (from matplotlib->mnist1d==0.0.2.post10) (23.2)\n",
            "Requirement already satisfied: pillow>=8 in c:\\users\\admin\\anaconda3\\envs\\torch\\lib\\site-packages (from matplotlib->mnist1d==0.0.2.post10) (10.3.0)\n",
            "Requirement already satisfied: pyparsing>=2.3.1 in c:\\users\\admin\\anaconda3\\envs\\torch\\lib\\site-packages (from matplotlib->mnist1d==0.0.2.post10) (3.0.9)\n",
            "Requirement already satisfied: python-dateutil>=2.7 in c:\\users\\admin\\anaconda3\\envs\\torch\\lib\\site-packages (from matplotlib->mnist1d==0.0.2.post10) (2.9.0.post0)\n",
            "Requirement already satisfied: charset-normalizer<4,>=2 in c:\\users\\admin\\anaconda3\\envs\\torch\\lib\\site-packages (from requests->mnist1d==0.0.2.post10) (2.0.4)\n",
            "Requirement already satisfied: idna<4,>=2.5 in c:\\users\\admin\\anaconda3\\envs\\torch\\lib\\site-packages (from requests->mnist1d==0.0.2.post10) (3.7)\n",
            "Requirement already satisfied: urllib3<3,>=1.21.1 in c:\\users\\admin\\anaconda3\\envs\\torch\\lib\\site-packages (from requests->mnist1d==0.0.2.post10) (2.2.2)\n",
            "Requirement already satisfied: certifi>=2017.4.17 in c:\\users\\admin\\anaconda3\\envs\\torch\\lib\\site-packages (from requests->mnist1d==0.0.2.post10) (2024.7.4)\n",
            "Requirement already satisfied: six>=1.5 in c:\\users\\admin\\anaconda3\\envs\\torch\\lib\\site-packages (from python-dateutil>=2.7->matplotlib->mnist1d==0.0.2.post10) (1.16.0)\n",
            "Building wheels for collected packages: mnist1d\n",
            "  Building wheel for mnist1d (pyproject.toml): started\n",
            "  Building wheel for mnist1d (pyproject.toml): finished with status 'done'\n",
            "  Created wheel for mnist1d: filename=mnist1d-0.0.2.post10-py3-none-any.whl size=14656 sha256=0c11e1b19e3a05906ea1fd1da54813fd4c7d887c6cbbd2b6055f1dcbd50461df\n",
            "  Stored in directory: C:\\Users\\Admin\\AppData\\Local\\Temp\\pip-ephem-wheel-cache-yujs6v7u\\wheels\\18\\40\\b6\\29381fee9b4c80fdbc304d52bb065a7286bbcca5ca2b8737c0\n",
            "Successfully built mnist1d\n",
            "Installing collected packages: mnist1d\n",
            "Successfully installed mnist1d-0.0.2.post10\n",
            "Note: you may need to restart the kernel to use updated packages.\n"
          ]
        },
        {
          "name": "stderr",
          "output_type": "stream",
          "text": [
            "  Running command git clone --filter=blob:none --quiet https://github.com/greydanus/mnist1d 'C:\\Users\\Admin\\AppData\\Local\\Temp\\pip-req-build-hvbhkwji'\n"
          ]
        }
      ],
      "source": [
        "# Run this if you're in a Colab to install MNIST 1D repository\n",
        "%pip install git+https://github.com/greydanus/mnist1d"
      ]
    },
    {
      "cell_type": "code",
      "execution_count": 2,
      "metadata": {
        "id": "qyE7G1StPIqO"
      },
      "outputs": [],
      "source": [
        "import torch, torch.nn as nn\n",
        "from torch.utils.data import TensorDataset, DataLoader\n",
        "from torch.optim.lr_scheduler import StepLR\n",
        "import numpy as np\n",
        "import matplotlib.pyplot as plt\n",
        "import mnist1d"
      ]
    },
    {
      "cell_type": "markdown",
      "metadata": {
        "id": "F7LNq72SP6jO"
      },
      "source": [
        "Let's generate a training and test dataset using the MNIST1D code.  The dataset gets saved as a .pkl file so it doesn't have to be regenerated each time."
      ]
    },
    {
      "cell_type": "code",
      "execution_count": 9,
      "metadata": {
        "id": "YLxf7dJfPaqw"
      },
      "outputs": [
        {
          "name": "stdout",
          "output_type": "stream",
          "text": [
            "Downloading MNIST1D dataset from https://github.com/greydanus/mnist1d/raw/master/mnist1d_data.pkl\n",
            "Saving to ./sample_data/mnist1d_data.pkl\n",
            "Successfully loaded data from ./sample_data/mnist1d_data.pkl\n",
            "Examples in training set: 4000\n",
            "Examples in test set: 1000\n",
            "Length of each example: 40\n"
          ]
        }
      ],
      "source": [
        "# !mkdir ./sample_data\n",
        "\n",
        "# for Windows\n",
        "!mkdir .\\sample_data\n",
        "\n",
        "args = mnist1d.data.get_dataset_args()\n",
        "data = mnist1d.data.get_dataset(args, path='./sample_data/mnist1d_data.pkl', download=True, regenerate=False)\n",
        "\n",
        "# The training and test input and outputs are in\n",
        "# data['x'], data['y'], data['x_test'], and data['y_test']\n",
        "print(\"Examples in training set: {}\".format(len(data['y'])))\n",
        "print(\"Examples in test set: {}\".format(len(data['y_test'])))\n",
        "print(\"Length of each example: {}\".format(data['x'].shape[-1]))"
      ]
    },
    {
      "cell_type": "code",
      "execution_count": 10,
      "metadata": {
        "id": "FxaB5vc0uevl"
      },
      "outputs": [
        {
          "name": "stdout",
          "output_type": "stream",
          "text": [
            "Initializing Linear(in_features=40, out_features=100, bias=True)\n",
            "Initializing Linear(in_features=100, out_features=100, bias=True)\n",
            "Initializing Linear(in_features=100, out_features=10, bias=True)\n"
          ]
        },
        {
          "data": {
            "text/plain": [
              "Sequential(\n",
              "  (0): Linear(in_features=40, out_features=100, bias=True)\n",
              "  (1): ReLU()\n",
              "  (2): Linear(in_features=100, out_features=100, bias=True)\n",
              "  (3): ReLU()\n",
              "  (4): Linear(in_features=100, out_features=10, bias=True)\n",
              ")"
            ]
          },
          "execution_count": 10,
          "metadata": {},
          "output_type": "execute_result"
        }
      ],
      "source": [
        "D_i = 40    # Input dimensions\n",
        "D_k = 100   # Hidden dimensions\n",
        "D_o = 10    # Output dimensions\n",
        "# TO DO:\n",
        "# Define a model with two hidden layers of size 100\n",
        "# And ReLU activations between them\n",
        "# Replace this line (see Figure 7.8 of book for help):\n",
        "model = torch.nn.Sequential(\n",
        "  torch.nn.Linear(D_i, D_k),\n",
        "  nn.ReLU(),\n",
        "  nn.Linear(D_k, D_k),\n",
        "  nn.ReLU(),\n",
        "  nn.Linear(D_k, D_o)\n",
        "  )\n",
        "\n",
        "\n",
        "def weights_init(layer_in):\n",
        "  # TO DO:\n",
        "  # Initialize the parameters with He initialization\n",
        "  # Replace this line (see figure 7.8 of book for help)\n",
        "  if isinstance(layer_in, nn.Linear):\n",
        "    print(f\"Initializing {layer_in}\")\n",
        "    nn.init.kaiming_normal_(layer_in.weight)\n",
        "    layer_in.bias.data.fill_(0.0)\n",
        "\n",
        "\n",
        "# Call the function you just defined\n",
        "model.apply(weights_init)"
      ]
    },
    {
      "cell_type": "code",
      "execution_count": 33,
      "metadata": {
        "id": "_rX6N3VyyQTY"
      },
      "outputs": [
        {
          "name": "stdout",
          "output_type": "stream",
          "text": [
            "Initializing Linear(in_features=40, out_features=100, bias=True)\n",
            "Initializing Linear(in_features=100, out_features=100, bias=True)\n",
            "Initializing Linear(in_features=100, out_features=10, bias=True)\n",
            "Epoch     0, train loss 1.524740, train error 60.20,  test loss 1.616644, test error 64.60\n",
            "Epoch     1, train loss 1.281086, train error 47.60,  test loss 1.435611, test error 56.70\n",
            "Epoch     2, train loss 1.077657, train error 39.65,  test loss 1.267164, test error 48.00\n",
            "Epoch     3, train loss 0.905798, train error 32.10,  test loss 1.214708, test error 48.20\n",
            "Epoch     4, train loss 0.804514, train error 28.43,  test loss 1.206995, test error 47.60\n",
            "Epoch     5, train loss 0.741341, train error 25.40,  test loss 1.134411, test error 43.80\n",
            "Epoch     6, train loss 0.632882, train error 21.85,  test loss 1.114027, test error 42.80\n",
            "Epoch     7, train loss 0.563331, train error 19.35,  test loss 1.136729, test error 42.60\n",
            "Epoch     8, train loss 0.492604, train error 16.88,  test loss 1.083151, test error 38.60\n",
            "Epoch     9, train loss 0.416666, train error 13.12,  test loss 1.113336, test error 39.40\n",
            "Epoch    10, train loss 0.302905, train error 7.45,  test loss 1.080190, test error 38.80\n",
            "Epoch    11, train loss 0.268547, train error 6.38,  test loss 1.069117, test error 37.30\n",
            "Epoch    12, train loss 0.239579, train error 5.03,  test loss 1.076218, test error 37.50\n",
            "Epoch    13, train loss 0.211350, train error 4.30,  test loss 1.124557, test error 36.80\n",
            "Epoch    14, train loss 0.188751, train error 3.50,  test loss 1.130687, test error 37.00\n",
            "Epoch    15, train loss 0.168551, train error 2.43,  test loss 1.154084, test error 37.60\n",
            "Epoch    16, train loss 0.165520, train error 3.22,  test loss 1.191962, test error 36.60\n",
            "Epoch    17, train loss 0.128984, train error 1.32,  test loss 1.192636, test error 37.40\n",
            "Epoch    18, train loss 0.121467, train error 1.45,  test loss 1.200863, test error 36.80\n",
            "Epoch    19, train loss 0.105554, train error 0.97,  test loss 1.219801, test error 37.10\n",
            "Epoch    20, train loss 0.085439, train error 0.32,  test loss 1.231179, test error 36.70\n",
            "Epoch    21, train loss 0.081881, train error 0.22,  test loss 1.237710, test error 36.20\n",
            "Epoch    22, train loss 0.077095, train error 0.20,  test loss 1.263062, test error 36.70\n",
            "Epoch    23, train loss 0.072127, train error 0.10,  test loss 1.257399, test error 36.00\n",
            "Epoch    24, train loss 0.070959, train error 0.25,  test loss 1.287614, test error 36.30\n",
            "Epoch    25, train loss 0.063325, train error 0.10,  test loss 1.296010, test error 36.10\n",
            "Epoch    26, train loss 0.060891, train error 0.05,  test loss 1.298929, test error 37.50\n",
            "Epoch    27, train loss 0.057050, train error 0.07,  test loss 1.302910, test error 36.70\n",
            "Epoch    28, train loss 0.054887, train error 0.07,  test loss 1.325726, test error 37.10\n",
            "Epoch    29, train loss 0.050938, train error 0.03,  test loss 1.335636, test error 37.10\n",
            "Epoch    30, train loss 0.048713, train error 0.03,  test loss 1.338426, test error 36.30\n",
            "Epoch    31, train loss 0.047699, train error 0.03,  test loss 1.341077, test error 36.80\n",
            "Epoch    32, train loss 0.046769, train error 0.03,  test loss 1.348710, test error 36.70\n",
            "Epoch    33, train loss 0.046023, train error 0.03,  test loss 1.356491, test error 37.10\n",
            "Epoch    34, train loss 0.044412, train error 0.03,  test loss 1.353963, test error 36.50\n",
            "Epoch    35, train loss 0.043414, train error 0.03,  test loss 1.356693, test error 36.30\n",
            "Epoch    36, train loss 0.042658, train error 0.03,  test loss 1.370219, test error 36.40\n",
            "Epoch    37, train loss 0.041812, train error 0.03,  test loss 1.372597, test error 36.50\n",
            "Epoch    38, train loss 0.040945, train error 0.03,  test loss 1.373488, test error 36.50\n",
            "Epoch    39, train loss 0.039827, train error 0.03,  test loss 1.379691, test error 36.60\n",
            "Epoch    40, train loss 0.039281, train error 0.03,  test loss 1.382585, test error 36.30\n",
            "Epoch    41, train loss 0.038910, train error 0.03,  test loss 1.383966, test error 36.40\n",
            "Epoch    42, train loss 0.038481, train error 0.03,  test loss 1.390082, test error 36.50\n",
            "Epoch    43, train loss 0.038111, train error 0.03,  test loss 1.390943, test error 36.40\n",
            "Epoch    44, train loss 0.037709, train error 0.03,  test loss 1.393007, test error 36.30\n",
            "Epoch    45, train loss 0.037380, train error 0.03,  test loss 1.396847, test error 37.00\n",
            "Epoch    46, train loss 0.036995, train error 0.03,  test loss 1.396037, test error 36.00\n",
            "Epoch    47, train loss 0.036585, train error 0.00,  test loss 1.398523, test error 36.40\n",
            "Epoch    48, train loss 0.036245, train error 0.00,  test loss 1.400663, test error 36.40\n",
            "Epoch    49, train loss 0.035940, train error 0.00,  test loss 1.404412, test error 36.50\n"
          ]
        }
      ],
      "source": [
        "# choose cross entropy loss function (equation 5.24)\n",
        "loss_function = torch.nn.CrossEntropyLoss()\n",
        "# construct SGD optimizer and initialize learning rate and momentum\n",
        "optimizer = torch.optim.SGD(model.parameters(), lr = 0.06, momentum=0.9)\n",
        "# object that decreases learning rate by half every 10 epochs\n",
        "scheduler = StepLR(optimizer, step_size=10, gamma=0.5)\n",
        "x_train = torch.tensor(data['x'], dtype=torch.float32)\n",
        "y_train = torch.tensor(data['y'], dtype=torch.long)\n",
        "x_test= torch.tensor(data['x_test'], dtype=torch.float32)\n",
        "y_test = torch.tensor(data['y_test'], dtype=torch.long)\n",
        "\n",
        "# load the data into a class that creates the batches\n",
        "data_loader = DataLoader(TensorDataset(x_train,y_train), batch_size=100, shuffle=True, worker_init_fn=np.random.seed(1))\n",
        "\n",
        "# Initialize model weights\n",
        "model.apply(weights_init)\n",
        "\n",
        "# loop over the dataset n_epoch times\n",
        "n_epoch = 50\n",
        "# store the loss and the % correct at each epoch\n",
        "losses_train = np.zeros((n_epoch))\n",
        "errors_train = np.zeros((n_epoch))\n",
        "losses_test = np.zeros((n_epoch))\n",
        "errors_test = np.zeros((n_epoch))\n",
        "\n",
        "for epoch in range(n_epoch):\n",
        "  # loop over batches\n",
        "  for i, batch in enumerate(data_loader):\n",
        "    # retrieve inputs and labels for this batch\n",
        "    x_batch, y_batch = batch\n",
        "    # zero the parameter gradients\n",
        "    optimizer.zero_grad()\n",
        "    # forward pass -- calculate model output\n",
        "    pred = model(x_batch)\n",
        "    # compute the loss\n",
        "    loss = loss_function(pred, y_batch)\n",
        "    # backward pass\n",
        "    loss.backward()\n",
        "    # SGD update\n",
        "    optimizer.step()\n",
        "\n",
        "  # Run whole dataset to get statistics -- normally wouldn't do this\n",
        "  pred_train = model(x_train)\n",
        "  pred_test = model(x_test)\n",
        "  _, predicted_train_class = torch.max(pred_train.data, 1)\n",
        "  _, predicted_test_class = torch.max(pred_test.data, 1)\n",
        "  errors_train[epoch] = 100 - 100 * (predicted_train_class == y_train).float().sum() / len(y_train)\n",
        "  errors_test[epoch]= 100 - 100 * (predicted_test_class == y_test).float().sum() / len(y_test)\n",
        "  losses_train[epoch] = loss_function(pred_train, y_train).item()\n",
        "  losses_test[epoch]= loss_function(pred_test, y_test).item()\n",
        "  print(f'Epoch {epoch:5d}, train loss {losses_train[epoch]:.6f}, train error {errors_train[epoch]:3.2f},  test loss {losses_test[epoch]:.6f}, test error {errors_test[epoch]:3.2f}')\n",
        "\n",
        "  # tell scheduler to consider updating learning rate\n",
        "  scheduler.step()"
      ]
    },
    {
      "cell_type": "code",
      "execution_count": 34,
      "metadata": {
        "id": "yI-l6kA_EH9G"
      },
      "outputs": [
        {
          "data": {
            "image/png": "[encoded data removed]",
            "text/plain": [
              "<Figure size 640x480 with 1 Axes>"
            ]
          },
          "metadata": {},
          "output_type": "display_data"
        },
        {
          "data": {
            "image/png": "[encoded data removed]",
            "text/plain": [
              "<Figure size 640x480 with 1 Axes>"
            ]
          },
          "metadata": {},
          "output_type": "display_data"
        }
      ],
      "source": [
        "# Plot the results\n",
        "fig, ax = plt.subplots()\n",
        "ax.plot(errors_train,'r-',label='train')\n",
        "ax.plot(errors_test,'b-',label='test')\n",
        "ax.set_ylim(0,100); ax.set_xlim(0,n_epoch)\n",
        "ax.set_xlabel('Epoch'); ax.set_ylabel('Error')\n",
        "ax.set_title('TrainError %3.2f, Test Error %3.2f'%(errors_train[-1],errors_test[-1]))\n",
        "ax.legend()\n",
        "plt.show()\n",
        "\n",
        "# Plot the results\n",
        "fig, ax = plt.subplots()\n",
        "ax.plot(losses_train,'r-',label='train')\n",
        "ax.plot(losses_test,'b-',label='test')\n",
        "ax.set_xlim(0,n_epoch)\n",
        "ax.set_xlabel('Epoch'); ax.set_ylabel('Loss')\n",
        "ax.set_title('Train loss %3.2f, Test loss %3.2f'%(losses_train[-1],losses_test[-1]))\n",
        "ax.legend()\n",
        "plt.show()"
      ]
    },
    {
      "cell_type": "markdown",
      "metadata": {
        "id": "q-yT6re6GZS4"
      },
      "source": [
        "**TO DO**\n",
        "\n",
        "Play with the model -- try changing the number of layers, hidden units, learning rate, batch size, momentum or anything else you like.  See if you can improve the test results.\n",
        "\n",
        "Is it a good idea to optimize the hyperparameters in this way?  Will the final result be a good estimate of the true test performance?"
      ]
    }
  ],
  "metadata": {
    "accelerator": "GPU",
    "colab": {
      "authorship_tag": "ABX9TyOuKMUcKfOIhIL2qTX9jJCy",
      "gpuType": "T4",
      "include_colab_link": true,
      "provenance": []
    },
    "kernelspec": {
      "display_name": "Python 3",
      "name": "python3"
    },
    "language_info": {
      "codemirror_mode": {
        "name": "ipython",
        "version": 3
      },
      "file_extension": ".py",
      "mimetype": "text/x-python",
      "name": "python",
      "nbconvert_exporter": "python",
      "pygments_lexer": "ipython3",
      "version": "3.12.4"
    }
  },
  "nbformat": 4,
  "nbformat_minor": 0
}
