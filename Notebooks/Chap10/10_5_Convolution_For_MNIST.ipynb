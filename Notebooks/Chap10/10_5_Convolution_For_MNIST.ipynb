{
 "cells": [
  {
   "cell_type": "markdown",
   "metadata": {
    "colab_type": "text",
    "id": "view-in-github"
   },
   "source": [
    "<a href=\"https://colab.research.google.com/github/udlbook/udlbook/blob/main/Notebooks/Chap10/10_5_Convolution_For_MNIST.ipynb\" target=\"_parent\"><img src=\"https://colab.research.google.com/assets/colab-badge.svg\" alt=\"Open In Colab\"/></a>"
   ]
  },
  {
   "cell_type": "markdown",
   "metadata": {
    "id": "t9vk9Elugvmi"
   },
   "source": [
    "# **Notebook 10.5: Convolution for MNIST**\n",
    "\n",
    "This notebook builds a proper network for 2D convolution.  It works with the MNIST dataset (figure 15.15a), which was the original classic dataset for classifying images.  The network will take a 28x28 grayscale image and classify it into one of 10 classes representing a digit.\n",
    "\n",
    "The code is adapted from https://nextjournal.com/gkoehler/pytorch-mnist\n",
    "\n",
    "Work through the cells below, running each cell in turn. In various places you will see the words \"TO DO\". Follow the instructions at these places and make predictions about what is going to happen or write code to complete the functions.\n",
    "\n",
    "Contact me at udlbookmail@gmail.com if you find any mistakes or have any suggestions.\n"
   ]
  },
  {
   "cell_type": "code",
   "execution_count": 1,
   "metadata": {
    "id": "YrXWAH7sUWvU"
   },
   "outputs": [],
   "source": [
    "import torch\n",
    "import torchvision\n",
    "import torch.nn as nn\n",
    "import torch.nn.functional as F\n",
    "import torch.optim as optim\n",
    "import matplotlib.pyplot as plt\n",
    "import random"
   ]
  },
  {
   "cell_type": "code",
   "execution_count": 2,
   "metadata": {
    "id": "wScBGXXFVadm"
   },
   "outputs": [
    {
     "name": "stdout",
     "output_type": "stream",
     "text": [
      "Downloading http://yann.lecun.com/exdb/mnist/train-images-idx3-ubyte.gz\n",
      "Failed to download (trying next):\n",
      "HTTP Error 403: Forbidden\n",
      "\n",
      "Downloading https://ossci-datasets.s3.amazonaws.com/mnist/train-images-idx3-ubyte.gz\n",
      "Downloading https://ossci-datasets.s3.amazonaws.com/mnist/train-images-idx3-ubyte.gz to /files/MNIST\\raw\\train-images-idx3-ubyte.gz\n"
     ]
    },
    {
     "name": "stderr",
     "output_type": "stream",
     "text": [
      "100%|██████████| 9912422/9912422 [00:02<00:00, 4636042.72it/s]\n"
     ]
    },
    {
     "name": "stdout",
     "output_type": "stream",
     "text": [
      "Extracting /files/MNIST\\raw\\train-images-idx3-ubyte.gz to /files/MNIST\\raw\n",
      "\n",
      "Downloading http://yann.lecun.com/exdb/mnist/train-labels-idx1-ubyte.gz\n",
      "Failed to download (trying next):\n",
      "HTTP Error 403: Forbidden\n",
      "\n",
      "Downloading https://ossci-datasets.s3.amazonaws.com/mnist/train-labels-idx1-ubyte.gz\n",
      "Downloading https://ossci-datasets.s3.amazonaws.com/mnist/train-labels-idx1-ubyte.gz to /files/MNIST\\raw\\train-labels-idx1-ubyte.gz\n"
     ]
    },
    {
     "name": "stderr",
     "output_type": "stream",
     "text": [
      "100%|██████████| 28881/28881 [00:00<00:00, 154492.87it/s]\n"
     ]
    },
    {
     "name": "stdout",
     "output_type": "stream",
     "text": [
      "Extracting /files/MNIST\\raw\\train-labels-idx1-ubyte.gz to /files/MNIST\\raw\n",
      "\n",
      "Downloading http://yann.lecun.com/exdb/mnist/t10k-images-idx3-ubyte.gz\n",
      "Failed to download (trying next):\n",
      "HTTP Error 403: Forbidden\n",
      "\n",
      "Downloading https://ossci-datasets.s3.amazonaws.com/mnist/t10k-images-idx3-ubyte.gz\n",
      "Downloading https://ossci-datasets.s3.amazonaws.com/mnist/t10k-images-idx3-ubyte.gz to /files/MNIST\\raw\\t10k-images-idx3-ubyte.gz\n"
     ]
    },
    {
     "name": "stderr",
     "output_type": "stream",
     "text": [
      "100%|██████████| 1648877/1648877 [00:00<00:00, 1700612.58it/s]\n"
     ]
    },
    {
     "name": "stdout",
     "output_type": "stream",
     "text": [
      "Extracting /files/MNIST\\raw\\t10k-images-idx3-ubyte.gz to /files/MNIST\\raw\n",
      "\n",
      "Downloading http://yann.lecun.com/exdb/mnist/t10k-labels-idx1-ubyte.gz\n",
      "Failed to download (trying next):\n",
      "HTTP Error 403: Forbidden\n",
      "\n",
      "Downloading https://ossci-datasets.s3.amazonaws.com/mnist/t10k-labels-idx1-ubyte.gz\n",
      "Downloading https://ossci-datasets.s3.amazonaws.com/mnist/t10k-labels-idx1-ubyte.gz to /files/MNIST\\raw\\t10k-labels-idx1-ubyte.gz\n"
     ]
    },
    {
     "name": "stderr",
     "output_type": "stream",
     "text": [
      "100%|██████████| 4542/4542 [00:00<?, ?it/s]"
     ]
    },
    {
     "name": "stdout",
     "output_type": "stream",
     "text": [
      "Extracting /files/MNIST\\raw\\t10k-labels-idx1-ubyte.gz to /files/MNIST\\raw\n",
      "\n"
     ]
    },
    {
     "name": "stderr",
     "output_type": "stream",
     "text": [
      "\n"
     ]
    }
   ],
   "source": [
    "# Run this once to load the train and test data straight into a dataloader class\n",
    "# that will provide the batches\n",
    "batch_size_train = 64\n",
    "batch_size_test = 1000\n",
    "train_loader = torch.utils.data.DataLoader(\n",
    "  torchvision.datasets.MNIST('/files/', train=True, download=True,\n",
    "                             transform=torchvision.transforms.Compose([\n",
    "                               torchvision.transforms.ToTensor(),\n",
    "                               torchvision.transforms.Normalize(\n",
    "                                 (0.1307,), (0.3081,))\n",
    "                             ])),\n",
    "  batch_size=batch_size_train, shuffle=True)\n",
    "\n",
    "test_loader = torch.utils.data.DataLoader(\n",
    "  torchvision.datasets.MNIST('/files/', train=False, download=True,\n",
    "                             transform=torchvision.transforms.Compose([\n",
    "                               torchvision.transforms.ToTensor(),\n",
    "                               torchvision.transforms.Normalize(\n",
    "                                 (0.1307,), (0.3081,))\n",
    "                             ])),\n",
    "  batch_size=batch_size_test, shuffle=True)"
   ]
  },
  {
   "cell_type": "code",
   "execution_count": 3,
   "metadata": {
    "id": "8bKADvLHbiV5"
   },
   "outputs": [
    {
     "data": {
      "image/png": "[encoded data removed]",
      "text/plain": [
       "<Figure size 640x480 with 6 Axes>"
      ]
     },
     "metadata": {},
     "output_type": "display_data"
    }
   ],
   "source": [
    "# Let's draw some of the training data\n",
    "examples = enumerate(test_loader)\n",
    "batch_idx, (example_data, example_targets) = next(examples)\n",
    "\n",
    "fig = plt.figure()\n",
    "for i in range(6):\n",
    "  plt.subplot(2,3,i+1)\n",
    "  plt.tight_layout()\n",
    "  plt.imshow(example_data[i][0], cmap='gray', interpolation='none')\n",
    "  plt.title(\"Ground Truth: {}\".format(example_targets[i]))\n",
    "  plt.xticks([])\n",
    "  plt.yticks([])\n",
    "plt.show()"
   ]
  },
  {
   "cell_type": "markdown",
   "metadata": {
    "id": "_sFvRDGrl4qe"
   },
   "source": [
    "Define the network.  This is a more typical way to define a network than the sequential structure.  We define a class for the network, and define the parameters in the constructor.  Then we use a function called forward to actually run the network.  It's easy to see how you might use residual connections in this format."
   ]
  },
  {
   "cell_type": "code",
   "execution_count": 14,
   "metadata": {
    "id": "EQkvw2KOPVl7"
   },
   "outputs": [],
   "source": [
    "from os import X_OK\n",
    "# TODO Change this class to implement\n",
    "# 1. A valid convolution with kernel size 5, 1 input channel and 10 output channels\n",
    "# 2. A max pooling operation over a 2x2 area\n",
    "# 3. A Relu\n",
    "# 4. A valid convolution with kernel size 5, 10 input channels and 20 output channels\n",
    "# 5. A 2D Dropout layer\n",
    "# 6. A max pooling operation over a 2x2 area\n",
    "# 7. A relu\n",
    "# 8. A flattening operation\n",
    "# 9. A fully connected layer mapping from (whatever dimensions we are at-- find out using .shape) to 50\n",
    "# 10. A ReLU\n",
    "# 11. A fully connected layer mapping from 50 to 10 dimensions\n",
    "# 12. A softmax function.\n",
    "\n",
    "# Replace this class which implements a minimal network (which still does okay)\n",
    "class Net(nn.Module):\n",
    "    def __init__(self):\n",
    "        super(Net, self).__init__()\n",
    "        self.conv1 = nn.Conv2d(1, 10, 5)\n",
    "        self.max_pooling = nn.MaxPool2d(2)\n",
    "        self.relu = nn.ReLU()\n",
    "        self.conv2 = nn.Conv2d(10, 20, 5)\n",
    "        # Dropout for convolutions\n",
    "        self.drop = nn.Dropout2d()\n",
    "        # Fully connected layer\n",
    "        self.fc1 = nn.Linear(320, 50)\n",
    "        self.fc2 = nn.Linear(50, 10)\n",
    "\n",
    "    def forward(self, x):\n",
    "        x = self.conv1(x)\n",
    "        x = self.max_pooling(x)\n",
    "        x = self.relu(x)\n",
    "        x = self.conv2(x)\n",
    "        x = self.drop(x)\n",
    "        x = self.max_pooling(x)\n",
    "        x = self.relu(x)\n",
    "        x = x.flatten(1)\n",
    "        x = self.fc1(x)\n",
    "        x = self.relu(x)\n",
    "        x = self.fc2(x)\n",
    "        x = F.log_softmax(x)\n",
    "        return x\n",
    "\n",
    "\n",
    "\n",
    "\n"
   ]
  },
  {
   "cell_type": "code",
   "execution_count": 15,
   "metadata": {
    "id": "qWZtkCZcU_dg"
   },
   "outputs": [],
   "source": [
    "# He initialization of weights\n",
    "def weights_init(layer_in):\n",
    "  if isinstance(layer_in, nn.Linear):\n",
    "    nn.init.kaiming_uniform_(layer_in.weight)\n",
    "    layer_in.bias.data.fill_(0.0)"
   ]
  },
  {
   "cell_type": "code",
   "execution_count": 16,
   "metadata": {
    "id": "FslroPJJffrh"
   },
   "outputs": [],
   "source": [
    "# Create network\n",
    "model = Net()\n",
    "# Initialize model weights\n",
    "model.apply(weights_init)\n",
    "# Define optimizer\n",
    "optimizer = optim.SGD(model.parameters(), lr=0.01, momentum=0.5)"
   ]
  },
  {
   "cell_type": "code",
   "execution_count": 17,
   "metadata": {
    "id": "xKQd9PzkQ766"
   },
   "outputs": [],
   "source": [
    "# Main training routine\n",
    "def train(epoch):\n",
    "  model.train()\n",
    "  # Get each\n",
    "  for batch_idx, (data, target) in enumerate(train_loader):\n",
    "    optimizer.zero_grad()\n",
    "    output = model(data)\n",
    "    loss = F.nll_loss(output, target)\n",
    "    loss.backward()\n",
    "    optimizer.step()\n",
    "    # Store results\n",
    "    if batch_idx % 10 == 0:\n",
    "      print('Train Epoch: {} [{}/{}]\\tLoss: {:.6f}'.format(\n",
    "        epoch, batch_idx * len(data), len(train_loader.dataset), loss.item()))"
   ]
  },
  {
   "cell_type": "code",
   "execution_count": 18,
   "metadata": {
    "id": "Byn-f7qWRLxX"
   },
   "outputs": [],
   "source": [
    "# Run on test data\n",
    "def test():\n",
    "  model.eval()\n",
    "  test_loss = 0\n",
    "  correct = 0\n",
    "  with torch.no_grad():\n",
    "    for data, target in test_loader:\n",
    "      output = model(data)\n",
    "      test_loss += F.nll_loss(output, target, size_average=False).item()\n",
    "      pred = output.data.max(1, keepdim=True)[1]\n",
    "      correct += pred.eq(target.data.view_as(pred)).sum()\n",
    "  test_loss /= len(test_loader.dataset)\n",
    "  print('\\nTest set: Avg. loss: {:.4f}, Accuracy: {}/{} ({:.0f}%)\\n'.format(\n",
    "    test_loss, correct, len(test_loader.dataset),\n",
    "    100. * correct / len(test_loader.dataset)))"
   ]
  },
  {
   "cell_type": "code",
   "execution_count": 19,
   "metadata": {
    "id": "YgLaex1pfhqz"
   },
   "outputs": [
    {
     "name": "stderr",
     "output_type": "stream",
     "text": [
      "C:\\Users\\Admin\\AppData\\Local\\Temp\\ipykernel_3488\\776671775.py:42: UserWarning: Implicit dimension choice for log_softmax has been deprecated. Change the call to include dim=X as an argument.\n",
      "  x = F.log_softmax(x)\n",
      "c:\\Users\\Admin\\.conda\\envs\\torch\\Lib\\site-packages\\torch\\nn\\_reduction.py:42: UserWarning: size_average and reduce args will be deprecated, please use reduction='sum' instead.\n",
      "  warnings.warn(warning.format(ret))\n"
     ]
    },
    {
     "name": "stdout",
     "output_type": "stream",
     "text": [
      "\n",
      "Test set: Avg. loss: 2.3439, Accuracy: 1089/10000 (11%)\n",
      "\n",
      "Train Epoch: 1 [0/60000]\tLoss: 2.394495\n",
      "Train Epoch: 1 [640/60000]\tLoss: 2.305896\n",
      "Train Epoch: 1 [1280/60000]\tLoss: 2.037419\n",
      "Train Epoch: 1 [1920/60000]\tLoss: 2.006292\n",
      "Train Epoch: 1 [2560/60000]\tLoss: 1.812038\n",
      "Train Epoch: 1 [3200/60000]\tLoss: 1.522519\n",
      "Train Epoch: 1 [3840/60000]\tLoss: 1.345497\n",
      "Train Epoch: 1 [4480/60000]\tLoss: 1.219287\n",
      "Train Epoch: 1 [5120/60000]\tLoss: 1.066560\n",
      "Train Epoch: 1 [5760/60000]\tLoss: 1.015386\n",
      "Train Epoch: 1 [6400/60000]\tLoss: 0.802518\n",
      "Train Epoch: 1 [7040/60000]\tLoss: 1.034843\n",
      "Train Epoch: 1 [7680/60000]\tLoss: 0.611273\n",
      "Train Epoch: 1 [8320/60000]\tLoss: 0.556590\n",
      "Train Epoch: 1 [8960/60000]\tLoss: 0.551740\n",
      "Train Epoch: 1 [9600/60000]\tLoss: 0.540970\n",
      "Train Epoch: 1 [10240/60000]\tLoss: 0.406070\n",
      "Train Epoch: 1 [10880/60000]\tLoss: 0.573731\n",
      "Train Epoch: 1 [11520/60000]\tLoss: 0.640020\n",
      "Train Epoch: 1 [12160/60000]\tLoss: 0.438349\n",
      "Train Epoch: 1 [12800/60000]\tLoss: 0.602272\n",
      "Train Epoch: 1 [13440/60000]\tLoss: 0.669251\n",
      "Train Epoch: 1 [14080/60000]\tLoss: 0.525122\n",
      "Train Epoch: 1 [14720/60000]\tLoss: 0.340110\n",
      "Train Epoch: 1 [15360/60000]\tLoss: 0.340748\n",
      "Train Epoch: 1 [16000/60000]\tLoss: 0.366075\n",
      "Train Epoch: 1 [16640/60000]\tLoss: 0.360314\n",
      "Train Epoch: 1 [17280/60000]\tLoss: 0.424419\n",
      "Train Epoch: 1 [17920/60000]\tLoss: 0.416735\n",
      "Train Epoch: 1 [18560/60000]\tLoss: 0.275004\n",
      "Train Epoch: 1 [19200/60000]\tLoss: 0.464887\n",
      "Train Epoch: 1 [19840/60000]\tLoss: 0.505359\n",
      "Train Epoch: 1 [20480/60000]\tLoss: 0.344790\n",
      "Train Epoch: 1 [21120/60000]\tLoss: 0.614792\n",
      "Train Epoch: 1 [21760/60000]\tLoss: 0.444563\n",
      "Train Epoch: 1 [22400/60000]\tLoss: 0.291049\n",
      "Train Epoch: 1 [23040/60000]\tLoss: 0.351921\n",
      "Train Epoch: 1 [23680/60000]\tLoss: 0.392236\n",
      "Train Epoch: 1 [24320/60000]\tLoss: 0.247682\n",
      "Train Epoch: 1 [24960/60000]\tLoss: 0.303737\n",
      "Train Epoch: 1 [25600/60000]\tLoss: 0.431509\n",
      "Train Epoch: 1 [26240/60000]\tLoss: 0.231004\n",
      "Train Epoch: 1 [26880/60000]\tLoss: 0.371355\n",
      "Train Epoch: 1 [27520/60000]\tLoss: 0.301360\n",
      "Train Epoch: 1 [28160/60000]\tLoss: 0.380957\n",
      "Train Epoch: 1 [28800/60000]\tLoss: 0.238912\n",
      "Train Epoch: 1 [29440/60000]\tLoss: 0.268299\n",
      "Train Epoch: 1 [30080/60000]\tLoss: 0.312060\n",
      "Train Epoch: 1 [30720/60000]\tLoss: 0.364384\n",
      "Train Epoch: 1 [31360/60000]\tLoss: 0.220185\n",
      "Train Epoch: 1 [32000/60000]\tLoss: 0.563784\n",
      "Train Epoch: 1 [32640/60000]\tLoss: 0.271375\n",
      "Train Epoch: 1 [33280/60000]\tLoss: 0.259390\n",
      "Train Epoch: 1 [33920/60000]\tLoss: 0.376562\n",
      "Train Epoch: 1 [34560/60000]\tLoss: 0.511276\n",
      "Train Epoch: 1 [35200/60000]\tLoss: 0.197260\n",
      "Train Epoch: 1 [35840/60000]\tLoss: 0.328138\n",
      "Train Epoch: 1 [36480/60000]\tLoss: 0.427274\n",
      "Train Epoch: 1 [37120/60000]\tLoss: 0.236017\n",
      "Train Epoch: 1 [37760/60000]\tLoss: 0.350100\n",
      "Train Epoch: 1 [38400/60000]\tLoss: 0.360919\n",
      "Train Epoch: 1 [39040/60000]\tLoss: 0.377113\n",
      "Train Epoch: 1 [39680/60000]\tLoss: 0.294674\n",
      "Train Epoch: 1 [40320/60000]\tLoss: 0.222805\n",
      "Train Epoch: 1 [40960/60000]\tLoss: 0.585260\n",
      "Train Epoch: 1 [41600/60000]\tLoss: 0.201299\n",
      "Train Epoch: 1 [42240/60000]\tLoss: 0.235857\n",
      "Train Epoch: 1 [42880/60000]\tLoss: 0.428779\n",
      "Train Epoch: 1 [43520/60000]\tLoss: 0.288595\n",
      "Train Epoch: 1 [44160/60000]\tLoss: 0.280850\n",
      "Train Epoch: 1 [44800/60000]\tLoss: 0.292182\n",
      "Train Epoch: 1 [45440/60000]\tLoss: 0.300189\n",
      "Train Epoch: 1 [46080/60000]\tLoss: 0.168861\n",
      "Train Epoch: 1 [46720/60000]\tLoss: 0.220853\n",
      "Train Epoch: 1 [47360/60000]\tLoss: 0.177410\n",
      "Train Epoch: 1 [48000/60000]\tLoss: 0.364995\n",
      "Train Epoch: 1 [48640/60000]\tLoss: 0.315272\n",
      "Train Epoch: 1 [49280/60000]\tLoss: 0.332815\n",
      "Train Epoch: 1 [49920/60000]\tLoss: 0.103894\n",
      "Train Epoch: 1 [50560/60000]\tLoss: 0.168162\n",
      "Train Epoch: 1 [51200/60000]\tLoss: 0.248797\n",
      "Train Epoch: 1 [51840/60000]\tLoss: 0.196008\n",
      "Train Epoch: 1 [52480/60000]\tLoss: 0.430762\n",
      "Train Epoch: 1 [53120/60000]\tLoss: 0.087165\n",
      "Train Epoch: 1 [53760/60000]\tLoss: 0.222194\n",
      "Train Epoch: 1 [54400/60000]\tLoss: 0.229311\n",
      "Train Epoch: 1 [55040/60000]\tLoss: 0.216462\n",
      "Train Epoch: 1 [55680/60000]\tLoss: 0.330385\n",
      "Train Epoch: 1 [56320/60000]\tLoss: 0.307954\n",
      "Train Epoch: 1 [56960/60000]\tLoss: 0.274112\n",
      "Train Epoch: 1 [57600/60000]\tLoss: 0.339228\n",
      "Train Epoch: 1 [58240/60000]\tLoss: 0.273239\n",
      "Train Epoch: 1 [58880/60000]\tLoss: 0.353230\n",
      "Train Epoch: 1 [59520/60000]\tLoss: 0.153945\n",
      "\n",
      "Test set: Avg. loss: 0.1169, Accuracy: 9639/10000 (96%)\n",
      "\n",
      "Train Epoch: 2 [0/60000]\tLoss: 0.343738\n",
      "Train Epoch: 2 [640/60000]\tLoss: 0.281832\n",
      "Train Epoch: 2 [1280/60000]\tLoss: 0.203829\n",
      "Train Epoch: 2 [1920/60000]\tLoss: 0.323866\n",
      "Train Epoch: 2 [2560/60000]\tLoss: 0.331115\n",
      "Train Epoch: 2 [3200/60000]\tLoss: 0.127317\n",
      "Train Epoch: 2 [3840/60000]\tLoss: 0.286006\n",
      "Train Epoch: 2 [4480/60000]\tLoss: 0.191616\n",
      "Train Epoch: 2 [5120/60000]\tLoss: 0.158361\n",
      "Train Epoch: 2 [5760/60000]\tLoss: 0.398068\n",
      "Train Epoch: 2 [6400/60000]\tLoss: 0.236352\n",
      "Train Epoch: 2 [7040/60000]\tLoss: 0.202664\n",
      "Train Epoch: 2 [7680/60000]\tLoss: 0.462804\n",
      "Train Epoch: 2 [8320/60000]\tLoss: 0.177578\n",
      "Train Epoch: 2 [8960/60000]\tLoss: 0.166258\n",
      "Train Epoch: 2 [9600/60000]\tLoss: 0.121343\n",
      "Train Epoch: 2 [10240/60000]\tLoss: 0.196900\n",
      "Train Epoch: 2 [10880/60000]\tLoss: 0.293583\n",
      "Train Epoch: 2 [11520/60000]\tLoss: 0.195365\n",
      "Train Epoch: 2 [12160/60000]\tLoss: 0.368237\n",
      "Train Epoch: 2 [12800/60000]\tLoss: 0.193542\n",
      "Train Epoch: 2 [13440/60000]\tLoss: 0.476895\n",
      "Train Epoch: 2 [14080/60000]\tLoss: 0.230721\n",
      "Train Epoch: 2 [14720/60000]\tLoss: 0.278054\n",
      "Train Epoch: 2 [15360/60000]\tLoss: 0.124604\n",
      "Train Epoch: 2 [16000/60000]\tLoss: 0.167164\n",
      "Train Epoch: 2 [16640/60000]\tLoss: 0.129243\n",
      "Train Epoch: 2 [17280/60000]\tLoss: 0.233515\n",
      "Train Epoch: 2 [17920/60000]\tLoss: 0.288931\n",
      "Train Epoch: 2 [18560/60000]\tLoss: 0.135391\n",
      "Train Epoch: 2 [19200/60000]\tLoss: 0.253094\n",
      "Train Epoch: 2 [19840/60000]\tLoss: 0.368166\n",
      "Train Epoch: 2 [20480/60000]\tLoss: 0.048994\n",
      "Train Epoch: 2 [21120/60000]\tLoss: 0.160240\n",
      "Train Epoch: 2 [21760/60000]\tLoss: 0.061270\n",
      "Train Epoch: 2 [22400/60000]\tLoss: 0.259117\n",
      "Train Epoch: 2 [23040/60000]\tLoss: 0.130849\n",
      "Train Epoch: 2 [23680/60000]\tLoss: 0.363393\n",
      "Train Epoch: 2 [24320/60000]\tLoss: 0.171546\n",
      "Train Epoch: 2 [24960/60000]\tLoss: 0.272568\n",
      "Train Epoch: 2 [25600/60000]\tLoss: 0.226084\n",
      "Train Epoch: 2 [26240/60000]\tLoss: 0.104501\n",
      "Train Epoch: 2 [26880/60000]\tLoss: 0.283671\n",
      "Train Epoch: 2 [27520/60000]\tLoss: 0.155981\n",
      "Train Epoch: 2 [28160/60000]\tLoss: 0.208724\n",
      "Train Epoch: 2 [28800/60000]\tLoss: 0.181901\n",
      "Train Epoch: 2 [29440/60000]\tLoss: 0.337248\n",
      "Train Epoch: 2 [30080/60000]\tLoss: 0.423670\n",
      "Train Epoch: 2 [30720/60000]\tLoss: 0.131532\n",
      "Train Epoch: 2 [31360/60000]\tLoss: 0.133239\n",
      "Train Epoch: 2 [32000/60000]\tLoss: 0.268085\n",
      "Train Epoch: 2 [32640/60000]\tLoss: 0.215418\n",
      "Train Epoch: 2 [33280/60000]\tLoss: 0.191665\n",
      "Train Epoch: 2 [33920/60000]\tLoss: 0.295737\n",
      "Train Epoch: 2 [34560/60000]\tLoss: 0.133024\n",
      "Train Epoch: 2 [35200/60000]\tLoss: 0.205940\n",
      "Train Epoch: 2 [35840/60000]\tLoss: 0.250738\n",
      "Train Epoch: 2 [36480/60000]\tLoss: 0.079025\n",
      "Train Epoch: 2 [37120/60000]\tLoss: 0.375215\n",
      "Train Epoch: 2 [37760/60000]\tLoss: 0.516666\n",
      "Train Epoch: 2 [38400/60000]\tLoss: 0.116345\n",
      "Train Epoch: 2 [39040/60000]\tLoss: 0.287937\n",
      "Train Epoch: 2 [39680/60000]\tLoss: 0.158928\n",
      "Train Epoch: 2 [40320/60000]\tLoss: 0.247229\n",
      "Train Epoch: 2 [40960/60000]\tLoss: 0.243631\n",
      "Train Epoch: 2 [41600/60000]\tLoss: 0.224725\n",
      "Train Epoch: 2 [42240/60000]\tLoss: 0.145554\n",
      "Train Epoch: 2 [42880/60000]\tLoss: 0.458667\n",
      "Train Epoch: 2 [43520/60000]\tLoss: 0.259955\n",
      "Train Epoch: 2 [44160/60000]\tLoss: 0.133245\n",
      "Train Epoch: 2 [44800/60000]\tLoss: 0.355664\n",
      "Train Epoch: 2 [45440/60000]\tLoss: 0.087373\n",
      "Train Epoch: 2 [46080/60000]\tLoss: 0.315141\n",
      "Train Epoch: 2 [46720/60000]\tLoss: 0.227612\n",
      "Train Epoch: 2 [47360/60000]\tLoss: 0.088049\n",
      "Train Epoch: 2 [48000/60000]\tLoss: 0.144818\n",
      "Train Epoch: 2 [48640/60000]\tLoss: 0.052716\n",
      "Train Epoch: 2 [49280/60000]\tLoss: 0.251406\n",
      "Train Epoch: 2 [49920/60000]\tLoss: 0.077064\n",
      "Train Epoch: 2 [50560/60000]\tLoss: 0.217080\n",
      "Train Epoch: 2 [51200/60000]\tLoss: 0.109367\n",
      "Train Epoch: 2 [51840/60000]\tLoss: 0.229400\n",
      "Train Epoch: 2 [52480/60000]\tLoss: 0.109676\n",
      "Train Epoch: 2 [53120/60000]\tLoss: 0.171607\n",
      "Train Epoch: 2 [53760/60000]\tLoss: 0.154686\n",
      "Train Epoch: 2 [54400/60000]\tLoss: 0.197324\n",
      "Train Epoch: 2 [55040/60000]\tLoss: 0.073280\n",
      "Train Epoch: 2 [55680/60000]\tLoss: 0.121675\n",
      "Train Epoch: 2 [56320/60000]\tLoss: 0.272796\n",
      "Train Epoch: 2 [56960/60000]\tLoss: 0.170414\n",
      "Train Epoch: 2 [57600/60000]\tLoss: 0.074786\n",
      "Train Epoch: 2 [58240/60000]\tLoss: 0.120580\n",
      "Train Epoch: 2 [58880/60000]\tLoss: 0.192672\n",
      "Train Epoch: 2 [59520/60000]\tLoss: 0.184156\n",
      "\n",
      "Test set: Avg. loss: 0.0838, Accuracy: 9728/10000 (97%)\n",
      "\n",
      "Train Epoch: 3 [0/60000]\tLoss: 0.124536\n",
      "Train Epoch: 3 [640/60000]\tLoss: 0.054785\n",
      "Train Epoch: 3 [1280/60000]\tLoss: 0.588839\n",
      "Train Epoch: 3 [1920/60000]\tLoss: 0.122413\n",
      "Train Epoch: 3 [2560/60000]\tLoss: 0.179452\n",
      "Train Epoch: 3 [3200/60000]\tLoss: 0.049739\n",
      "Train Epoch: 3 [3840/60000]\tLoss: 0.177204\n",
      "Train Epoch: 3 [4480/60000]\tLoss: 0.212282\n",
      "Train Epoch: 3 [5120/60000]\tLoss: 0.134239\n",
      "Train Epoch: 3 [5760/60000]\tLoss: 0.073960\n",
      "Train Epoch: 3 [6400/60000]\tLoss: 0.232398\n",
      "Train Epoch: 3 [7040/60000]\tLoss: 0.179359\n",
      "Train Epoch: 3 [7680/60000]\tLoss: 0.156940\n",
      "Train Epoch: 3 [8320/60000]\tLoss: 0.129551\n",
      "Train Epoch: 3 [8960/60000]\tLoss: 0.204924\n",
      "Train Epoch: 3 [9600/60000]\tLoss: 0.183468\n",
      "Train Epoch: 3 [10240/60000]\tLoss: 0.231469\n",
      "Train Epoch: 3 [10880/60000]\tLoss: 0.145480\n",
      "Train Epoch: 3 [11520/60000]\tLoss: 0.188177\n",
      "Train Epoch: 3 [12160/60000]\tLoss: 0.068155\n",
      "Train Epoch: 3 [12800/60000]\tLoss: 0.067330\n",
      "Train Epoch: 3 [13440/60000]\tLoss: 0.089027\n",
      "Train Epoch: 3 [14080/60000]\tLoss: 0.092164\n",
      "Train Epoch: 3 [14720/60000]\tLoss: 0.045451\n",
      "Train Epoch: 3 [15360/60000]\tLoss: 0.167704\n",
      "Train Epoch: 3 [16000/60000]\tLoss: 0.082705\n",
      "Train Epoch: 3 [16640/60000]\tLoss: 0.119620\n",
      "Train Epoch: 3 [17280/60000]\tLoss: 0.156789\n",
      "Train Epoch: 3 [17920/60000]\tLoss: 0.178281\n",
      "Train Epoch: 3 [18560/60000]\tLoss: 0.307706\n",
      "Train Epoch: 3 [19200/60000]\tLoss: 0.085161\n",
      "Train Epoch: 3 [19840/60000]\tLoss: 0.202924\n",
      "Train Epoch: 3 [20480/60000]\tLoss: 0.140995\n",
      "Train Epoch: 3 [21120/60000]\tLoss: 0.071527\n",
      "Train Epoch: 3 [21760/60000]\tLoss: 0.150760\n",
      "Train Epoch: 3 [22400/60000]\tLoss: 0.209510\n",
      "Train Epoch: 3 [23040/60000]\tLoss: 0.222664\n",
      "Train Epoch: 3 [23680/60000]\tLoss: 0.087896\n",
      "Train Epoch: 3 [24320/60000]\tLoss: 0.198766\n",
      "Train Epoch: 3 [24960/60000]\tLoss: 0.054928\n",
      "Train Epoch: 3 [25600/60000]\tLoss: 0.161399\n",
      "Train Epoch: 3 [26240/60000]\tLoss: 0.182816\n",
      "Train Epoch: 3 [26880/60000]\tLoss: 0.068591\n",
      "Train Epoch: 3 [27520/60000]\tLoss: 0.038105\n",
      "Train Epoch: 3 [28160/60000]\tLoss: 0.106080\n",
      "Train Epoch: 3 [28800/60000]\tLoss: 0.108462\n",
      "Train Epoch: 3 [29440/60000]\tLoss: 0.050876\n",
      "Train Epoch: 3 [30080/60000]\tLoss: 0.158053\n",
      "Train Epoch: 3 [30720/60000]\tLoss: 0.080571\n",
      "Train Epoch: 3 [31360/60000]\tLoss: 0.264906\n",
      "Train Epoch: 3 [32000/60000]\tLoss: 0.135086\n",
      "Train Epoch: 3 [32640/60000]\tLoss: 0.054154\n",
      "Train Epoch: 3 [33280/60000]\tLoss: 0.094882\n",
      "Train Epoch: 3 [33920/60000]\tLoss: 0.223302\n",
      "Train Epoch: 3 [34560/60000]\tLoss: 0.140229\n",
      "Train Epoch: 3 [35200/60000]\tLoss: 0.082047\n",
      "Train Epoch: 3 [35840/60000]\tLoss: 0.080726\n",
      "Train Epoch: 3 [36480/60000]\tLoss: 0.223224\n",
      "Train Epoch: 3 [37120/60000]\tLoss: 0.055276\n",
      "Train Epoch: 3 [37760/60000]\tLoss: 0.153667\n",
      "Train Epoch: 3 [38400/60000]\tLoss: 0.052137\n",
      "Train Epoch: 3 [39040/60000]\tLoss: 0.289542\n",
      "Train Epoch: 3 [39680/60000]\tLoss: 0.074095\n",
      "Train Epoch: 3 [40320/60000]\tLoss: 0.149013\n",
      "Train Epoch: 3 [40960/60000]\tLoss: 0.303937\n",
      "Train Epoch: 3 [41600/60000]\tLoss: 0.098126\n",
      "Train Epoch: 3 [42240/60000]\tLoss: 0.087881\n",
      "Train Epoch: 3 [42880/60000]\tLoss: 0.040826\n",
      "Train Epoch: 3 [43520/60000]\tLoss: 0.124311\n",
      "Train Epoch: 3 [44160/60000]\tLoss: 0.180539\n",
      "Train Epoch: 3 [44800/60000]\tLoss: 0.066520\n",
      "Train Epoch: 3 [45440/60000]\tLoss: 0.078647\n",
      "Train Epoch: 3 [46080/60000]\tLoss: 0.053361\n",
      "Train Epoch: 3 [46720/60000]\tLoss: 0.277379\n",
      "Train Epoch: 3 [47360/60000]\tLoss: 0.091928\n",
      "Train Epoch: 3 [48000/60000]\tLoss: 0.167951\n",
      "Train Epoch: 3 [48640/60000]\tLoss: 0.259990\n",
      "Train Epoch: 3 [49280/60000]\tLoss: 0.312697\n",
      "Train Epoch: 3 [49920/60000]\tLoss: 0.084172\n",
      "Train Epoch: 3 [50560/60000]\tLoss: 0.101171\n",
      "Train Epoch: 3 [51200/60000]\tLoss: 0.177365\n",
      "Train Epoch: 3 [51840/60000]\tLoss: 0.042292\n",
      "Train Epoch: 3 [52480/60000]\tLoss: 0.189819\n",
      "Train Epoch: 3 [53120/60000]\tLoss: 0.140335\n",
      "Train Epoch: 3 [53760/60000]\tLoss: 0.054968\n",
      "Train Epoch: 3 [54400/60000]\tLoss: 0.096146\n",
      "Train Epoch: 3 [55040/60000]\tLoss: 0.033684\n",
      "Train Epoch: 3 [55680/60000]\tLoss: 0.313422\n",
      "Train Epoch: 3 [56320/60000]\tLoss: 0.086213\n",
      "Train Epoch: 3 [56960/60000]\tLoss: 0.102051\n",
      "Train Epoch: 3 [57600/60000]\tLoss: 0.141148\n",
      "Train Epoch: 3 [58240/60000]\tLoss: 0.181512\n",
      "Train Epoch: 3 [58880/60000]\tLoss: 0.226674\n",
      "Train Epoch: 3 [59520/60000]\tLoss: 0.055808\n",
      "\n",
      "Test set: Avg. loss: 0.0662, Accuracy: 9775/10000 (98%)\n",
      "\n"
     ]
    }
   ],
   "source": [
    "# Get initial performance\n",
    "test()\n",
    "# Train for three epochs\n",
    "n_epochs = 3\n",
    "for epoch in range(1, n_epochs + 1):\n",
    "  train(epoch)\n",
    "  test()"
   ]
  },
  {
   "cell_type": "code",
   "execution_count": 21,
   "metadata": {
    "id": "o7fRUAy9Se1B"
   },
   "outputs": [
    {
     "name": "stderr",
     "output_type": "stream",
     "text": [
      "C:\\Users\\Admin\\AppData\\Local\\Temp\\ipykernel_3488\\776671775.py:42: UserWarning: Implicit dimension choice for log_softmax has been deprecated. Change the call to include dim=X as an argument.\n",
      "  x = F.log_softmax(x)\n"
     ]
    },
    {
     "data": {
      "image/png": "[encoded data removed]",
      "text/plain": [
       "<Figure size 640x480 with 10 Axes>"
      ]
     },
     "metadata": {},
     "output_type": "display_data"
    }
   ],
   "source": [
    "# Run network on data we got before and show predictions\n",
    "output = model(example_data)\n",
    "\n",
    "fig = plt.figure()\n",
    "for i in range(10):\n",
    "  plt.subplot(5,5,i+1)\n",
    "  plt.tight_layout()\n",
    "  plt.imshow(example_data[i][0], cmap='gray', interpolation='none')\n",
    "  plt.title(\"Prediction: {}\".format(\n",
    "    output.data.max(1, keepdim=True)[1][i].item()))\n",
    "  plt.xticks([])\n",
    "  plt.yticks([])\n",
    "plt.show()"
   ]
  }
 ],
 "metadata": {
  "colab": {
   "authorship_tag": "ABX9TyNAcc98STMeyQgh9SbVHWG+",
   "include_colab_link": true,
   "provenance": []
  },
  "kernelspec": {
   "display_name": "torch",
   "language": "python",
   "name": "python3"
  },
  "language_info": {
   "codemirror_mode": {
    "name": "ipython",
    "version": 3
   },
   "file_extension": ".py",
   "mimetype": "text/x-python",
   "name": "python",
   "nbconvert_exporter": "python",
   "pygments_lexer": "ipython3",
   "version": "3.12.4"
  }
 },
 "nbformat": 4,
 "nbformat_minor": 0
}
