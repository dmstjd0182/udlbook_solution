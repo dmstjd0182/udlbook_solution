{
 "cells": [
  {
   "cell_type": "markdown",
   "metadata": {
    "colab_type": "text",
    "id": "view-in-github"
   },
   "source": [
    "<a href=\"https://colab.research.google.com/github/udlbook/udlbook/blob/main/Notebooks/Chap10/10_2_Convolution_for_MNIST_1D.ipynb\" target=\"_parent\"><img src=\"https://colab.research.google.com/assets/colab-badge.svg\" alt=\"Open In Colab\"/></a>"
   ]
  },
  {
   "cell_type": "markdown",
   "metadata": {
    "id": "t9vk9Elugvmi"
   },
   "source": [
    "# **Notebook 10.2: Convolution for MNIST-1D**\n",
    "\n",
    "This notebook investigates a 1D convolutional network for MNIST-1D as in figure 10.7 and 10.8a.\n",
    "\n",
    "Work through the cells below, running each cell in turn. In various places you will see the words \"TO DO\". Follow the instructions at these places and make predictions about what is going to happen or write code to complete the functions.\n",
    "\n",
    "Contact me at udlbookmail@gmail.com if you find any mistakes or have any suggestions.\n",
    "\n"
   ]
  },
  {
   "cell_type": "code",
   "execution_count": 1,
   "metadata": {
    "id": "D5yLObtZCi9J"
   },
   "outputs": [
    {
     "name": "stdout",
     "output_type": "stream",
     "text": [
      "Collecting git+https://github.com/greydanus/mnist1d\n",
      "  Cloning https://github.com/greydanus/mnist1d to c:\\users\\admin\\appdata\\local\\temp\\pip-req-build-zacmkper\n",
      "  Resolved https://github.com/greydanus/mnist1d to commit 7878d96082abd200c546a07a4101fa90b30fdf7e\n",
      "  Installing build dependencies: started\n",
      "  Installing build dependencies: finished with status 'done'\n",
      "  Getting requirements to build wheel: started\n",
      "  Getting requirements to build wheel: finished with status 'done'\n",
      "  Preparing metadata (pyproject.toml): started\n",
      "  Preparing metadata (pyproject.toml): finished with status 'done'\n",
      "Requirement already satisfied: requests in c:\\users\\admin\\.conda\\envs\\torch\\lib\\site-packages (from mnist1d==0.0.2.post16) (2.32.2)\n",
      "Requirement already satisfied: numpy in c:\\users\\admin\\.conda\\envs\\torch\\lib\\site-packages (from mnist1d==0.0.2.post16) (1.26.4)\n",
      "Requirement already satisfied: matplotlib in c:\\users\\admin\\.conda\\envs\\torch\\lib\\site-packages (from mnist1d==0.0.2.post16) (3.8.4)\n",
      "Requirement already satisfied: scipy in c:\\users\\admin\\.conda\\envs\\torch\\lib\\site-packages (from mnist1d==0.0.2.post16) (1.13.1)\n",
      "Requirement already satisfied: contourpy>=1.0.1 in c:\\users\\admin\\.conda\\envs\\torch\\lib\\site-packages (from matplotlib->mnist1d==0.0.2.post16) (1.2.0)\n",
      "Requirement already satisfied: cycler>=0.10 in c:\\users\\admin\\.conda\\envs\\torch\\lib\\site-packages (from matplotlib->mnist1d==0.0.2.post16) (0.11.0)\n",
      "Requirement already satisfied: fonttools>=4.22.0 in c:\\users\\admin\\.conda\\envs\\torch\\lib\\site-packages (from matplotlib->mnist1d==0.0.2.post16) (4.51.0)\n",
      "Requirement already satisfied: kiwisolver>=1.3.1 in c:\\users\\admin\\.conda\\envs\\torch\\lib\\site-packages (from matplotlib->mnist1d==0.0.2.post16) (1.4.4)\n",
      "Requirement already satisfied: packaging>=20.0 in c:\\users\\admin\\.conda\\envs\\torch\\lib\\site-packages (from matplotlib->mnist1d==0.0.2.post16) (23.2)\n",
      "Requirement already satisfied: pillow>=8 in c:\\users\\admin\\.conda\\envs\\torch\\lib\\site-packages (from matplotlib->mnist1d==0.0.2.post16) (10.3.0)\n",
      "Requirement already satisfied: pyparsing>=2.3.1 in c:\\users\\admin\\.conda\\envs\\torch\\lib\\site-packages (from matplotlib->mnist1d==0.0.2.post16) (3.0.9)\n",
      "Requirement already satisfied: python-dateutil>=2.7 in c:\\users\\admin\\.conda\\envs\\torch\\lib\\site-packages (from matplotlib->mnist1d==0.0.2.post16) (2.9.0.post0)\n",
      "Requirement already satisfied: charset-normalizer<4,>=2 in c:\\users\\admin\\.conda\\envs\\torch\\lib\\site-packages (from requests->mnist1d==0.0.2.post16) (2.0.4)\n",
      "Requirement already satisfied: idna<4,>=2.5 in c:\\users\\admin\\.conda\\envs\\torch\\lib\\site-packages (from requests->mnist1d==0.0.2.post16) (3.7)\n",
      "Requirement already satisfied: urllib3<3,>=1.21.1 in c:\\users\\admin\\.conda\\envs\\torch\\lib\\site-packages (from requests->mnist1d==0.0.2.post16) (2.2.2)\n",
      "Requirement already satisfied: certifi>=2017.4.17 in c:\\users\\admin\\.conda\\envs\\torch\\lib\\site-packages (from requests->mnist1d==0.0.2.post16) (2024.7.4)\n",
      "Requirement already satisfied: six>=1.5 in c:\\users\\admin\\.conda\\envs\\torch\\lib\\site-packages (from python-dateutil>=2.7->matplotlib->mnist1d==0.0.2.post16) (1.16.0)\n",
      "Building wheels for collected packages: mnist1d\n",
      "  Building wheel for mnist1d (pyproject.toml): started\n",
      "  Building wheel for mnist1d (pyproject.toml): finished with status 'done'\n",
      "  Created wheel for mnist1d: filename=mnist1d-0.0.2.post16-py3-none-any.whl size=14720 sha256=72f5bccfac77207bd215b0b011a267e8b4e19b0d1fefea1e941a01383bb83c28\n",
      "  Stored in directory: C:\\Users\\Admin\\AppData\\Local\\Temp\\pip-ephem-wheel-cache-r_08_zw2\\wheels\\18\\40\\b6\\29381fee9b4c80fdbc304d52bb065a7286bbcca5ca2b8737c0\n",
      "Successfully built mnist1d\n",
      "Installing collected packages: mnist1d\n",
      "  Attempting uninstall: mnist1d\n",
      "    Found existing installation: mnist1d 0.0.2.post15\n",
      "    Uninstalling mnist1d-0.0.2.post15:\n",
      "      Successfully uninstalled mnist1d-0.0.2.post15\n",
      "Successfully installed mnist1d-0.0.2.post16\n"
     ]
    },
    {
     "name": "stderr",
     "output_type": "stream",
     "text": [
      "  Running command git clone --filter=blob:none --quiet https://github.com/greydanus/mnist1d 'C:\\Users\\Admin\\AppData\\Local\\Temp\\pip-req-build-zacmkper'\n"
     ]
    }
   ],
   "source": [
    "# Run this if you're in a Colab to install MNIST 1D repository\n",
    "!pip install git+https://github.com/greydanus/mnist1d"
   ]
  },
  {
   "cell_type": "code",
   "execution_count": 2,
   "metadata": {
    "id": "YrXWAH7sUWvU"
   },
   "outputs": [],
   "source": [
    "import numpy as np\n",
    "import os\n",
    "import torch, torch.nn as nn\n",
    "from torch.utils.data import TensorDataset, DataLoader\n",
    "from torch.optim.lr_scheduler import StepLR\n",
    "import matplotlib.pyplot as plt\n",
    "import mnist1d\n",
    "import random"
   ]
  },
  {
   "cell_type": "code",
   "execution_count": 3,
   "metadata": {
    "id": "twI72ZCrCt5z"
   },
   "outputs": [
    {
     "name": "stdout",
     "output_type": "stream",
     "text": [
      "Did or could not load data from ./mnist1d_data.pkl. Rebuilding dataset...\n",
      "Examples in training set: 4000\n",
      "Examples in test set: 1000\n",
      "Length of each example: 40\n"
     ]
    }
   ],
   "source": [
    "args = mnist1d.data.get_dataset_args()\n",
    "data = mnist1d.data.get_dataset(args, path='./mnist1d_data.pkl', download=False, regenerate=False)\n",
    "\n",
    "# The training and test input and outputs are in\n",
    "# data['x'], data['y'], data['x_test'], and data['y_test']\n",
    "print(\"Examples in training set: {}\".format(len(data['y'])))\n",
    "print(\"Examples in test set: {}\".format(len(data['y_test'])))\n",
    "print(\"Length of each example: {}\".format(data['x'].shape[-1]))"
   ]
  },
  {
   "cell_type": "code",
   "execution_count": 4,
   "metadata": {
    "id": "8bKADvLHbiV5"
   },
   "outputs": [
    {
     "name": "stdout",
     "output_type": "stream",
     "text": [
      "Train data: 4000 examples (columns), each of which has 40 dimensions (rows)\n",
      "Validation data: 1000 examples (columns), each of which has 40 dimensions (rows)\n"
     ]
    }
   ],
   "source": [
    "# Load in the data\n",
    "train_data_x = data['x'].transpose()\n",
    "train_data_y = data['y']\n",
    "val_data_x = data['x_test'].transpose()\n",
    "val_data_y = data['y_test']\n",
    "# Print out sizes\n",
    "print(\"Train data: %d examples (columns), each of which has %d dimensions (rows)\"%((train_data_x.shape[1],train_data_x.shape[0])))\n",
    "print(\"Validation data: %d examples (columns), each of which has %d dimensions (rows)\"%((val_data_x.shape[1],val_data_x.shape[0])))"
   ]
  },
  {
   "cell_type": "markdown",
   "metadata": {
    "id": "_sFvRDGrl4qe"
   },
   "source": [
    "Define the network"
   ]
  },
  {
   "cell_type": "code",
   "execution_count": 8,
   "metadata": {
    "id": "FslroPJJffrh"
   },
   "outputs": [],
   "source": [
    "# There are 40 input dimensions and 10 output dimensions for this data\n",
    "# The inputs correspond to the 40 offsets in the MNIST1D template.\n",
    "D_i = 40\n",
    "# The outputs correspond to the 10 digits\n",
    "D_o = 10\n",
    "\n",
    "\n",
    "# TODO Create a model with the following layers\n",
    "# 1. Convolutional layer, (input=length 40 and 1 channel, kernel size 3, stride 2, padding=\"valid\", 15 output channels )\n",
    "# 2. ReLU\n",
    "# 3. Convolutional layer, (input=length 19 and 15 channels, kernel size 3, stride 2, padding=\"valid\", 15 output channels )\n",
    "# 4. ReLU\n",
    "# 5. Convolutional layer, (input=length 9 and 15 channels, kernel size 3, stride 2, padding=\"valid\", 15 output channels)\n",
    "# 6. ReLU\n",
    "# 7. Flatten (converts 4x15) to length 60\n",
    "# 8. Linear layer (input size = 60, output size = 10)\n",
    "# References:\n",
    "# https://pytorch.org/docs/1.13/generated/torch.nn.Conv1d.html?highlight=conv1d#torch.nn.Conv1d\n",
    "# https://pytorch.org/docs/stable/generated/torch.nn.Flatten.html\n",
    "# https://pytorch.org/docs/1.13/generated/torch.nn.Linear.html?highlight=linear#torch.nn.Linear\n",
    "\n",
    "# NOTE THAT THE CONVOLUTIONAL LAYERS NEED TO TAKE THE NUMBER OF INPUT CHANNELS AS A PARAMETER\n",
    "# AND NOT THE INPUT SIZE.\n",
    "\n",
    "# Replace the following function:\n",
    "model = nn.Sequential(\n",
    "    nn.Conv1d(1, 15, 3, 2, padding=\"valid\"),\n",
    "    nn.ReLU(),\n",
    "    nn.Conv1d(15, 15, 3, 2, padding=\"valid\"),\n",
    "    nn.ReLU(),\n",
    "    nn.Conv1d(15, 15, 3, 2, padding=\"valid\"),\n",
    "    nn.ReLU(),\n",
    "    nn.Flatten(),\n",
    "    nn.Linear(60, 10),\n",
    "    )\n",
    "\n",
    "\n",
    "\n"
   ]
  },
  {
   "cell_type": "code",
   "execution_count": 9,
   "metadata": {
    "id": "YgLaex1pfhqz"
   },
   "outputs": [],
   "source": [
    "# He initialization of weights\n",
    "def weights_init(layer_in):\n",
    "  if isinstance(layer_in, nn.Linear):\n",
    "    nn.init.kaiming_uniform_(layer_in.weight)\n",
    "    layer_in.bias.data.fill_(0.0)"
   ]
  },
  {
   "cell_type": "code",
   "execution_count": 10,
   "metadata": {
    "id": "NYw8I_3mmX5c"
   },
   "outputs": [
    {
     "name": "stdout",
     "output_type": "stream",
     "text": [
      "Epoch     0, train loss 1.871583, train error 74.90,  val loss 1.887813, percent error 76.90\n",
      "Epoch     1, train loss 1.442521, train error 58.60,  val loss 1.481315, percent error 62.60\n",
      "Epoch     2, train loss 1.356496, train error 55.38,  val loss 1.378653, percent error 58.90\n",
      "Epoch     3, train loss 1.256227, train error 51.30,  val loss 1.274692, percent error 53.60\n",
      "Epoch     4, train loss 1.260700, train error 51.25,  val loss 1.272889, percent error 53.00\n",
      "Epoch     5, train loss 1.122302, train error 46.12,  val loss 1.152034, percent error 48.90\n",
      "Epoch     6, train loss 1.049993, train error 42.45,  val loss 1.105842, percent error 47.30\n",
      "Epoch     7, train loss 0.996512, train error 38.80,  val loss 1.044322, percent error 41.40\n",
      "Epoch     8, train loss 0.971188, train error 37.90,  val loss 1.041471, percent error 41.70\n",
      "Epoch     9, train loss 0.794754, train error 31.40,  val loss 0.869578, percent error 37.10\n",
      "Epoch    10, train loss 0.748571, train error 28.60,  val loss 0.826270, percent error 33.80\n",
      "Epoch    11, train loss 0.675471, train error 26.20,  val loss 0.755378, percent error 30.70\n",
      "Epoch    12, train loss 0.638948, train error 25.43,  val loss 0.744680, percent error 29.00\n",
      "Epoch    13, train loss 0.734365, train error 27.22,  val loss 0.851166, percent error 32.10\n",
      "Epoch    14, train loss 0.495229, train error 18.70,  val loss 0.622697, percent error 23.00\n",
      "Epoch    15, train loss 0.477931, train error 17.32,  val loss 0.602059, percent error 22.40\n",
      "Epoch    16, train loss 0.402604, train error 14.75,  val loss 0.505566, percent error 18.20\n",
      "Epoch    17, train loss 0.326428, train error 11.80,  val loss 0.432467, percent error 15.10\n",
      "Epoch    18, train loss 0.343635, train error 12.38,  val loss 0.472868, percent error 16.70\n",
      "Epoch    19, train loss 0.396547, train error 13.70,  val loss 0.591860, percent error 18.00\n",
      "Epoch    20, train loss 0.219980, train error 7.75,  val loss 0.370124, percent error 13.00\n",
      "Epoch    21, train loss 0.193583, train error 6.65,  val loss 0.349109, percent error 12.40\n",
      "Epoch    22, train loss 0.177650, train error 6.00,  val loss 0.343947, percent error 11.60\n",
      "Epoch    23, train loss 0.186763, train error 6.57,  val loss 0.367616, percent error 12.20\n",
      "Epoch    24, train loss 0.155888, train error 5.00,  val loss 0.349822, percent error 11.50\n",
      "Epoch    25, train loss 0.165062, train error 6.12,  val loss 0.358635, percent error 11.50\n",
      "Epoch    26, train loss 0.136546, train error 4.45,  val loss 0.316989, percent error 10.70\n",
      "Epoch    27, train loss 0.133072, train error 4.53,  val loss 0.341730, percent error 10.90\n",
      "Epoch    28, train loss 0.150045, train error 5.10,  val loss 0.371521, percent error 11.70\n",
      "Epoch    29, train loss 0.116585, train error 3.93,  val loss 0.332497, percent error 11.30\n",
      "Epoch    30, train loss 0.118780, train error 4.05,  val loss 0.338847, percent error 11.00\n",
      "Epoch    31, train loss 0.118883, train error 3.70,  val loss 0.343066, percent error 10.60\n",
      "Epoch    32, train loss 0.118626, train error 4.22,  val loss 0.354217, percent error 10.80\n",
      "Epoch    33, train loss 0.154685, train error 5.62,  val loss 0.405229, percent error 11.00\n",
      "Epoch    34, train loss 0.111539, train error 3.85,  val loss 0.330572, percent error 9.70\n",
      "Epoch    35, train loss 0.093124, train error 2.85,  val loss 0.316183, percent error 9.40\n",
      "Epoch    36, train loss 0.098550, train error 3.20,  val loss 0.360859, percent error 10.30\n",
      "Epoch    37, train loss 0.092103, train error 2.95,  val loss 0.353692, percent error 9.50\n",
      "Epoch    38, train loss 0.080349, train error 2.65,  val loss 0.337031, percent error 9.90\n",
      "Epoch    39, train loss 0.082135, train error 2.97,  val loss 0.341261, percent error 10.00\n",
      "Epoch    40, train loss 0.071054, train error 1.97,  val loss 0.327258, percent error 9.40\n",
      "Epoch    41, train loss 0.065056, train error 1.72,  val loss 0.338463, percent error 9.90\n",
      "Epoch    42, train loss 0.063913, train error 1.82,  val loss 0.328063, percent error 9.40\n",
      "Epoch    43, train loss 0.062078, train error 2.00,  val loss 0.347693, percent error 9.90\n",
      "Epoch    44, train loss 0.065104, train error 1.75,  val loss 0.357604, percent error 10.10\n",
      "Epoch    45, train loss 0.070724, train error 2.32,  val loss 0.366974, percent error 9.60\n",
      "Epoch    46, train loss 0.057015, train error 1.53,  val loss 0.342814, percent error 10.10\n",
      "Epoch    47, train loss 0.058513, train error 1.90,  val loss 0.360469, percent error 10.00\n",
      "Epoch    48, train loss 0.058399, train error 1.62,  val loss 0.358161, percent error 9.70\n",
      "Epoch    49, train loss 0.056861, train error 1.60,  val loss 0.356687, percent error 10.20\n",
      "Epoch    50, train loss 0.056564, train error 1.68,  val loss 0.382371, percent error 10.10\n",
      "Epoch    51, train loss 0.072329, train error 2.35,  val loss 0.381062, percent error 10.80\n",
      "Epoch    52, train loss 0.052088, train error 1.62,  val loss 0.356836, percent error 9.70\n",
      "Epoch    53, train loss 0.045911, train error 1.22,  val loss 0.364912, percent error 10.10\n",
      "Epoch    54, train loss 0.046470, train error 1.22,  val loss 0.364741, percent error 10.20\n",
      "Epoch    55, train loss 0.053003, train error 1.40,  val loss 0.384930, percent error 10.30\n",
      "Epoch    56, train loss 0.044899, train error 1.12,  val loss 0.359029, percent error 10.50\n",
      "Epoch    57, train loss 0.042410, train error 0.93,  val loss 0.374159, percent error 10.30\n",
      "Epoch    58, train loss 0.047740, train error 1.10,  val loss 0.386874, percent error 10.00\n",
      "Epoch    59, train loss 0.041758, train error 0.88,  val loss 0.386664, percent error 10.40\n",
      "Epoch    60, train loss 0.039948, train error 0.80,  val loss 0.372517, percent error 9.80\n",
      "Epoch    61, train loss 0.038479, train error 0.78,  val loss 0.379902, percent error 9.90\n",
      "Epoch    62, train loss 0.037926, train error 0.70,  val loss 0.375940, percent error 10.10\n",
      "Epoch    63, train loss 0.037545, train error 0.80,  val loss 0.384923, percent error 10.40\n",
      "Epoch    64, train loss 0.037389, train error 0.75,  val loss 0.389017, percent error 9.90\n",
      "Epoch    65, train loss 0.036558, train error 0.72,  val loss 0.393309, percent error 10.30\n",
      "Epoch    66, train loss 0.037544, train error 0.78,  val loss 0.400288, percent error 10.10\n",
      "Epoch    67, train loss 0.035626, train error 0.72,  val loss 0.390734, percent error 10.40\n",
      "Epoch    68, train loss 0.035558, train error 0.68,  val loss 0.401188, percent error 10.20\n",
      "Epoch    69, train loss 0.034526, train error 0.68,  val loss 0.394609, percent error 10.20\n",
      "Epoch    70, train loss 0.034634, train error 0.62,  val loss 0.399048, percent error 10.30\n",
      "Epoch    71, train loss 0.034831, train error 0.65,  val loss 0.402553, percent error 10.30\n",
      "Epoch    72, train loss 0.037297, train error 0.82,  val loss 0.407421, percent error 10.40\n",
      "Epoch    73, train loss 0.033618, train error 0.65,  val loss 0.401485, percent error 10.60\n",
      "Epoch    74, train loss 0.033071, train error 0.55,  val loss 0.407311, percent error 10.60\n",
      "Epoch    75, train loss 0.032708, train error 0.62,  val loss 0.404166, percent error 10.30\n",
      "Epoch    76, train loss 0.032247, train error 0.55,  val loss 0.405730, percent error 10.70\n",
      "Epoch    77, train loss 0.031944, train error 0.55,  val loss 0.412526, percent error 10.20\n",
      "Epoch    78, train loss 0.031303, train error 0.57,  val loss 0.408413, percent error 10.50\n",
      "Epoch    79, train loss 0.031706, train error 0.57,  val loss 0.411329, percent error 10.50\n",
      "Epoch    80, train loss 0.031401, train error 0.62,  val loss 0.420876, percent error 10.20\n",
      "Epoch    81, train loss 0.030812, train error 0.55,  val loss 0.415332, percent error 10.60\n",
      "Epoch    82, train loss 0.030026, train error 0.47,  val loss 0.412314, percent error 10.50\n",
      "Epoch    83, train loss 0.030012, train error 0.50,  val loss 0.418737, percent error 10.60\n",
      "Epoch    84, train loss 0.029574, train error 0.55,  val loss 0.415904, percent error 10.70\n",
      "Epoch    85, train loss 0.029578, train error 0.40,  val loss 0.422104, percent error 10.40\n",
      "Epoch    86, train loss 0.029573, train error 0.50,  val loss 0.417357, percent error 10.50\n",
      "Epoch    87, train loss 0.029172, train error 0.47,  val loss 0.422545, percent error 10.50\n",
      "Epoch    88, train loss 0.030123, train error 0.50,  val loss 0.425264, percent error 10.30\n",
      "Epoch    89, train loss 0.029555, train error 0.57,  val loss 0.421527, percent error 10.50\n",
      "Epoch    90, train loss 0.028705, train error 0.45,  val loss 0.426127, percent error 10.40\n",
      "Epoch    91, train loss 0.028553, train error 0.47,  val loss 0.423597, percent error 10.70\n",
      "Epoch    92, train loss 0.028476, train error 0.47,  val loss 0.422306, percent error 10.70\n",
      "Epoch    93, train loss 0.028349, train error 0.55,  val loss 0.426584, percent error 10.40\n",
      "Epoch    94, train loss 0.028216, train error 0.45,  val loss 0.429772, percent error 10.30\n",
      "Epoch    95, train loss 0.027728, train error 0.45,  val loss 0.429163, percent error 10.70\n",
      "Epoch    96, train loss 0.027593, train error 0.45,  val loss 0.428114, percent error 10.70\n",
      "Epoch    97, train loss 0.027681, train error 0.47,  val loss 0.425068, percent error 10.70\n",
      "Epoch    98, train loss 0.028552, train error 0.43,  val loss 0.436598, percent error 10.30\n",
      "Epoch    99, train loss 0.027202, train error 0.45,  val loss 0.431070, percent error 10.60\n"
     ]
    },
    {
     "data": {
      "image/png": "[encoded data removed]",
      "text/plain": [
       "<Figure size 640x480 with 1 Axes>"
      ]
     },
     "metadata": {},
     "output_type": "display_data"
    }
   ],
   "source": [
    "# choose cross entropy loss function (equation 5.24 in the loss notes)\n",
    "loss_function = nn.CrossEntropyLoss()\n",
    "# construct SGD optimizer and initialize learning rate and momentum\n",
    "optimizer = torch.optim.SGD(model.parameters(), lr = 0.05, momentum=0.9)\n",
    "# object that decreases learning rate by half every 20 epochs\n",
    "scheduler = StepLR(optimizer, step_size=20, gamma=0.5)\n",
    "# create 100 dummy data points and store in data loader class\n",
    "x_train = torch.tensor(train_data_x.transpose().astype('float32'))\n",
    "y_train = torch.tensor(train_data_y.astype('long')).long()\n",
    "x_val= torch.tensor(val_data_x.transpose().astype('float32'))\n",
    "y_val = torch.tensor(val_data_y.astype('long')).long()\n",
    "\n",
    "# load the data into a class that creates the batches\n",
    "data_loader = DataLoader(TensorDataset(x_train,y_train), batch_size=100, shuffle=True, worker_init_fn=np.random.seed(1))\n",
    "\n",
    "# Initialize model weights\n",
    "model.apply(weights_init)\n",
    "\n",
    "# loop over the dataset n_epoch times\n",
    "n_epoch = 100\n",
    "# store the loss and the % correct at each epoch\n",
    "losses_train = np.zeros((n_epoch))\n",
    "errors_train = np.zeros((n_epoch))\n",
    "losses_val = np.zeros((n_epoch))\n",
    "errors_val = np.zeros((n_epoch))\n",
    "\n",
    "for epoch in range(n_epoch):\n",
    "  # loop over batches\n",
    "  for i, data in enumerate(data_loader):\n",
    "    # retrieve inputs and labels for this batch\n",
    "    x_batch, y_batch = data\n",
    "    # zero the parameter gradients\n",
    "    optimizer.zero_grad()\n",
    "    # forward pass -- calculate model output\n",
    "    pred = model(x_batch[:,None,:])\n",
    "    # compute the loss\n",
    "    loss = loss_function(pred, y_batch)\n",
    "    # backward pass\n",
    "    loss.backward()\n",
    "    # SGD update\n",
    "    optimizer.step()\n",
    "\n",
    "  # Run whole dataset to get statistics -- normally wouldn't do this\n",
    "  pred_train = model(x_train[:,None,:])\n",
    "  pred_val = model(x_val[:,None,:])\n",
    "  _, predicted_train_class = torch.max(pred_train.data, 1)\n",
    "  _, predicted_val_class = torch.max(pred_val.data, 1)\n",
    "  errors_train[epoch] = 100 - 100 * (predicted_train_class == y_train).float().sum() / len(y_train)\n",
    "  errors_val[epoch]= 100 - 100 * (predicted_val_class == y_val).float().sum() / len(y_val)\n",
    "  losses_train[epoch] = loss_function(pred_train, y_train).item()\n",
    "  losses_val[epoch]= loss_function(pred_val, y_val).item()\n",
    "  print(f'Epoch {epoch:5d}, train loss {losses_train[epoch]:.6f}, train error {errors_train[epoch]:3.2f},  val loss {losses_val[epoch]:.6f}, percent error {errors_val[epoch]:3.2f}')\n",
    "\n",
    "  # tell scheduler to consider updating learning rate\n",
    "  scheduler.step()\n",
    "\n",
    "# Plot the results\n",
    "fig, ax = plt.subplots()\n",
    "ax.plot(errors_train,'r-',label='train')\n",
    "ax.plot(errors_val,'b-',label='validation')\n",
    "ax.set_ylim(0,100); ax.set_xlim(0,n_epoch)\n",
    "ax.set_xlabel('Epoch'); ax.set_ylabel('Error')\n",
    "ax.set_title('Part I: Validation Result %3.2f'%(errors_val[-1]))\n",
    "ax.legend()\n",
    "plt.show()"
   ]
  },
  {
   "cell_type": "code",
   "execution_count": null,
   "metadata": {},
   "outputs": [],
   "source": []
  }
 ],
 "metadata": {
  "colab": {
   "authorship_tag": "ABX9TyNb46PJB/CC1pcHGfjpUUZg",
   "include_colab_link": true,
   "provenance": []
  },
  "kernelspec": {
   "display_name": "torch",
   "language": "python",
   "name": "python3"
  },
  "language_info": {
   "codemirror_mode": {
    "name": "ipython",
    "version": 3
   },
   "file_extension": ".py",
   "mimetype": "text/x-python",
   "name": "python",
   "nbconvert_exporter": "python",
   "pygments_lexer": "ipython3",
   "version": "3.12.4"
  }
 },
 "nbformat": 4,
 "nbformat_minor": 0
}
