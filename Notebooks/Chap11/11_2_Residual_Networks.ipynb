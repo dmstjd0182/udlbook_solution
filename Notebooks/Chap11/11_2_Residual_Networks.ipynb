{
 "cells": [
  {
   "cell_type": "markdown",
   "metadata": {
    "colab_type": "text",
    "id": "view-in-github"
   },
   "source": [
    "<a href=\"https://colab.research.google.com/github/udlbook/udlbook/blob/main/Notebooks/Chap11/11_2_Residual_Networks.ipynb\" target=\"_parent\"><img src=\"https://colab.research.google.com/assets/colab-badge.svg\" alt=\"Open In Colab\"/></a>"
   ]
  },
  {
   "cell_type": "markdown",
   "metadata": {
    "id": "t9vk9Elugvmi"
   },
   "source": [
    "# **Notebook 11.2: Residual Networks**\n",
    "\n",
    "This notebook adapts the networks for MNIST1D to use residual connections.\n",
    "\n",
    "Work through the cells below, running each cell in turn. In various places you will see the words \"TO DO\". Follow the instructions at these places and make predictions about what is going to happen or write code to complete the functions.\n",
    "\n",
    "Contact me at udlbookmail@gmail.com if you find any mistakes or have any suggestions.\n",
    "\n"
   ]
  },
  {
   "cell_type": "code",
   "execution_count": 1,
   "metadata": {
    "id": "D5yLObtZCi9J"
   },
   "outputs": [
    {
     "name": "stdout",
     "output_type": "stream",
     "text": [
      "Collecting git+https://github.com/greydanus/mnist1d\n",
      "  Cloning https://github.com/greydanus/mnist1d to c:\\users\\admin\\appdata\\local\\temp\\pip-req-build-_ad7rwy6\n",
      "  Resolved https://github.com/greydanus/mnist1d to commit 7878d96082abd200c546a07a4101fa90b30fdf7e\n",
      "  Installing build dependencies: started\n",
      "  Installing build dependencies: finished with status 'done'\n",
      "  Getting requirements to build wheel: started\n",
      "  Getting requirements to build wheel: finished with status 'done'\n",
      "  Preparing metadata (pyproject.toml): started\n",
      "  Preparing metadata (pyproject.toml): finished with status 'done'\n",
      "Requirement already satisfied: requests in c:\\users\\admin\\.conda\\envs\\torch\\lib\\site-packages (from mnist1d==0.0.2.post16) (2.32.2)\n",
      "Requirement already satisfied: numpy in c:\\users\\admin\\.conda\\envs\\torch\\lib\\site-packages (from mnist1d==0.0.2.post16) (1.26.4)\n",
      "Requirement already satisfied: matplotlib in c:\\users\\admin\\.conda\\envs\\torch\\lib\\site-packages (from mnist1d==0.0.2.post16) (3.8.4)\n",
      "Requirement already satisfied: scipy in c:\\users\\admin\\.conda\\envs\\torch\\lib\\site-packages (from mnist1d==0.0.2.post16) (1.13.1)\n",
      "Requirement already satisfied: contourpy>=1.0.1 in c:\\users\\admin\\.conda\\envs\\torch\\lib\\site-packages (from matplotlib->mnist1d==0.0.2.post16) (1.2.0)\n",
      "Requirement already satisfied: cycler>=0.10 in c:\\users\\admin\\.conda\\envs\\torch\\lib\\site-packages (from matplotlib->mnist1d==0.0.2.post16) (0.11.0)\n",
      "Requirement already satisfied: fonttools>=4.22.0 in c:\\users\\admin\\.conda\\envs\\torch\\lib\\site-packages (from matplotlib->mnist1d==0.0.2.post16) (4.51.0)\n",
      "Requirement already satisfied: kiwisolver>=1.3.1 in c:\\users\\admin\\.conda\\envs\\torch\\lib\\site-packages (from matplotlib->mnist1d==0.0.2.post16) (1.4.4)\n",
      "Requirement already satisfied: packaging>=20.0 in c:\\users\\admin\\.conda\\envs\\torch\\lib\\site-packages (from matplotlib->mnist1d==0.0.2.post16) (23.2)\n",
      "Requirement already satisfied: pillow>=8 in c:\\users\\admin\\.conda\\envs\\torch\\lib\\site-packages (from matplotlib->mnist1d==0.0.2.post16) (10.3.0)\n",
      "Requirement already satisfied: pyparsing>=2.3.1 in c:\\users\\admin\\.conda\\envs\\torch\\lib\\site-packages (from matplotlib->mnist1d==0.0.2.post16) (3.0.9)\n",
      "Requirement already satisfied: python-dateutil>=2.7 in c:\\users\\admin\\.conda\\envs\\torch\\lib\\site-packages (from matplotlib->mnist1d==0.0.2.post16) (2.9.0.post0)\n",
      "Requirement already satisfied: charset-normalizer<4,>=2 in c:\\users\\admin\\.conda\\envs\\torch\\lib\\site-packages (from requests->mnist1d==0.0.2.post16) (2.0.4)\n",
      "Requirement already satisfied: idna<4,>=2.5 in c:\\users\\admin\\.conda\\envs\\torch\\lib\\site-packages (from requests->mnist1d==0.0.2.post16) (3.7)\n",
      "Requirement already satisfied: urllib3<3,>=1.21.1 in c:\\users\\admin\\.conda\\envs\\torch\\lib\\site-packages (from requests->mnist1d==0.0.2.post16) (2.2.2)\n",
      "Requirement already satisfied: certifi>=2017.4.17 in c:\\users\\admin\\.conda\\envs\\torch\\lib\\site-packages (from requests->mnist1d==0.0.2.post16) (2024.7.4)\n",
      "Requirement already satisfied: six>=1.5 in c:\\users\\admin\\.conda\\envs\\torch\\lib\\site-packages (from python-dateutil>=2.7->matplotlib->mnist1d==0.0.2.post16) (1.16.0)\n"
     ]
    },
    {
     "name": "stderr",
     "output_type": "stream",
     "text": [
      "  Running command git clone --filter=blob:none --quiet https://github.com/greydanus/mnist1d 'C:\\Users\\Admin\\AppData\\Local\\Temp\\pip-req-build-_ad7rwy6'\n"
     ]
    }
   ],
   "source": [
    "# Run this if you're in a Colab to install MNIST 1D repository\n",
    "!pip install git+https://github.com/greydanus/mnist1d"
   ]
  },
  {
   "cell_type": "code",
   "execution_count": 2,
   "metadata": {
    "id": "YrXWAH7sUWvU"
   },
   "outputs": [],
   "source": [
    "import numpy as np\n",
    "import os\n",
    "import torch, torch.nn as nn\n",
    "from torch.utils.data import TensorDataset, DataLoader\n",
    "from torch.optim.lr_scheduler import StepLR\n",
    "import matplotlib.pyplot as plt\n",
    "import mnist1d\n",
    "import random"
   ]
  },
  {
   "cell_type": "code",
   "execution_count": 3,
   "metadata": {
    "id": "twI72ZCrCt5z"
   },
   "outputs": [
    {
     "name": "stdout",
     "output_type": "stream",
     "text": [
      "Did or could not load data from ./mnist1d_data.pkl. Rebuilding dataset...\n",
      "Examples in training set: 4000\n",
      "Examples in test set: 1000\n",
      "Length of each example: 40\n"
     ]
    }
   ],
   "source": [
    "args = mnist1d.data.get_dataset_args()\n",
    "data = mnist1d.data.get_dataset(args, path='./mnist1d_data.pkl', download=False, regenerate=False)\n",
    "\n",
    "# The training and test input and outputs are in\n",
    "# data['x'], data['y'], data['x_test'], and data['y_test']\n",
    "print(\"Examples in training set: {}\".format(len(data['y'])))\n",
    "print(\"Examples in test set: {}\".format(len(data['y_test'])))\n",
    "print(\"Length of each example: {}\".format(data['x'].shape[-1]))"
   ]
  },
  {
   "cell_type": "code",
   "execution_count": 4,
   "metadata": {
    "id": "8bKADvLHbiV5"
   },
   "outputs": [
    {
     "name": "stdout",
     "output_type": "stream",
     "text": [
      "Train data: 4000 examples (columns), each of which has 40 dimensions (rows)\n",
      "Validation data: 1000 examples (columns), each of which has 40 dimensions (rows)\n"
     ]
    }
   ],
   "source": [
    "# Load in the data\n",
    "train_data_x = data['x'].transpose()\n",
    "train_data_y = data['y']\n",
    "val_data_x = data['x_test'].transpose()\n",
    "val_data_y = data['y_test']\n",
    "# Print out sizes\n",
    "print(\"Train data: %d examples (columns), each of which has %d dimensions (rows)\"%((train_data_x.shape[1],train_data_x.shape[0])))\n",
    "print(\"Validation data: %d examples (columns), each of which has %d dimensions (rows)\"%((val_data_x.shape[1],val_data_x.shape[0])))"
   ]
  },
  {
   "cell_type": "markdown",
   "metadata": {
    "id": "_sFvRDGrl4qe"
   },
   "source": [
    "Define the network"
   ]
  },
  {
   "cell_type": "code",
   "execution_count": 5,
   "metadata": {
    "id": "FslroPJJffrh"
   },
   "outputs": [],
   "source": [
    "# There are 40 input dimensions and 10 output dimensions for this data\n",
    "# The inputs correspond to the 40 offsets in the MNIST1D template.\n",
    "D_i = 40\n",
    "# The outputs correspond to the 10 digits\n",
    "D_o = 10\n",
    "\n",
    "\n",
    "# We will adapt this model to have residual connections around the linear layers\n",
    "# This is the same model we used in practical 8.1, but we can't use the sequential\n",
    "# class for residual networks (which aren't strictly sequential).  Hence, I've rewritten\n",
    "# it as a model that inherits from a base class\n",
    "\n",
    "class ResidualNetwork(torch.nn.Module):\n",
    "  def __init__(self, input_size, output_size, hidden_size=100):\n",
    "    super(ResidualNetwork, self).__init__()\n",
    "    self.linear1 = nn.Linear(input_size, hidden_size)\n",
    "    self.linear2 = nn.Linear(hidden_size, hidden_size)\n",
    "    self.linear3 = nn.Linear(hidden_size, hidden_size)\n",
    "    self.linear4 = nn.Linear(hidden_size, output_size)\n",
    "    print(\"Initialized MLPBase model with {} parameters\".format(self.count_params()))\n",
    "\n",
    "  def count_params(self):\n",
    "    return sum([p.view(-1).shape[0] for p in self.parameters()])\n",
    "\n",
    "# TODO -- Add residual connections to this model\n",
    "# The order of operations within each block should similar to figure 11.5b\n",
    "# ie., linear1 first, ReLU+linear2 in first residual block, ReLU+linear3 in second residual block), linear4 at end\n",
    "# Replace this function\n",
    "  def forward(self, x):\n",
    "    h1 = self.linear1(x)\n",
    "    h2 = h1 + self.linear2(h1.relu())\n",
    "    h3 = h2 + self.linear3(h2.relu())\n",
    "    return self.linear4(h3)\n"
   ]
  },
  {
   "cell_type": "code",
   "execution_count": 6,
   "metadata": {
    "id": "YgLaex1pfhqz"
   },
   "outputs": [],
   "source": [
    "# He initialization of weights\n",
    "def weights_init(layer_in):\n",
    "  if isinstance(layer_in, nn.Linear):\n",
    "    nn.init.kaiming_uniform_(layer_in.weight)\n",
    "    layer_in.bias.data.fill_(0.0)"
   ]
  },
  {
   "cell_type": "code",
   "execution_count": 8,
   "metadata": {
    "id": "NYw8I_3mmX5c"
   },
   "outputs": [
    {
     "name": "stdout",
     "output_type": "stream",
     "text": [
      "Initialized MLPBase model with 25310 parameters\n",
      "Epoch     0, train loss 1.670401, train error 61.55,  val loss 1.746276, percent error 63.60\n",
      "Epoch     1, train loss 1.195258, train error 45.60,  val loss 1.330895, percent error 53.00\n",
      "Epoch     2, train loss 0.963348, train error 35.82,  val loss 1.148805, percent error 44.20\n",
      "Epoch     3, train loss 0.867165, train error 32.78,  val loss 1.128876, percent error 42.80\n",
      "Epoch     4, train loss 0.798184, train error 29.82,  val loss 1.142732, percent error 42.40\n",
      "Epoch     5, train loss 0.737217, train error 27.40,  val loss 1.106068, percent error 39.00\n",
      "Epoch     6, train loss 0.700994, train error 25.68,  val loss 1.162115, percent error 42.60\n",
      "Epoch     7, train loss 0.629675, train error 24.00,  val loss 1.203090, percent error 41.90\n",
      "Epoch     8, train loss 0.683706, train error 25.60,  val loss 1.293291, percent error 42.10\n",
      "Epoch     9, train loss 0.559831, train error 20.78,  val loss 1.190603, percent error 39.80\n",
      "Epoch    10, train loss 0.485934, train error 18.57,  val loss 1.192882, percent error 37.10\n",
      "Epoch    11, train loss 0.390687, train error 14.45,  val loss 1.203818, percent error 37.90\n",
      "Epoch    12, train loss 0.438918, train error 16.03,  val loss 1.421872, percent error 39.30\n",
      "Epoch    13, train loss 0.424920, train error 15.15,  val loss 1.328761, percent error 39.10\n",
      "Epoch    14, train loss 0.408737, train error 14.72,  val loss 1.434211, percent error 37.70\n",
      "Epoch    15, train loss 0.370405, train error 13.85,  val loss 1.383260, percent error 37.00\n",
      "Epoch    16, train loss 0.273962, train error 10.03,  val loss 1.380763, percent error 35.40\n",
      "Epoch    17, train loss 0.290609, train error 10.75,  val loss 1.533483, percent error 37.40\n",
      "Epoch    18, train loss 0.320323, train error 11.03,  val loss 1.614303, percent error 36.10\n",
      "Epoch    19, train loss 0.323964, train error 10.85,  val loss 1.642145, percent error 38.00\n",
      "Epoch    20, train loss 0.085918, train error 2.35,  val loss 1.273397, percent error 32.40\n",
      "Epoch    21, train loss 0.044465, train error 0.62,  val loss 1.304170, percent error 31.00\n",
      "Epoch    22, train loss 0.023438, train error 0.05,  val loss 1.296207, percent error 31.00\n",
      "Epoch    23, train loss 0.016717, train error 0.03,  val loss 1.326617, percent error 31.20\n",
      "Epoch    24, train loss 0.013028, train error 0.00,  val loss 1.366231, percent error 30.70\n",
      "Epoch    25, train loss 0.010461, train error 0.00,  val loss 1.398879, percent error 30.10\n",
      "Epoch    26, train loss 0.009021, train error 0.00,  val loss 1.415776, percent error 30.60\n",
      "Epoch    27, train loss 0.007873, train error 0.00,  val loss 1.444720, percent error 30.10\n",
      "Epoch    28, train loss 0.007046, train error 0.00,  val loss 1.462088, percent error 30.30\n",
      "Epoch    29, train loss 0.006273, train error 0.00,  val loss 1.487435, percent error 30.20\n",
      "Epoch    30, train loss 0.005713, train error 0.00,  val loss 1.500132, percent error 30.80\n",
      "Epoch    31, train loss 0.005239, train error 0.00,  val loss 1.520470, percent error 30.40\n",
      "Epoch    32, train loss 0.004828, train error 0.00,  val loss 1.536752, percent error 30.70\n",
      "Epoch    33, train loss 0.004493, train error 0.00,  val loss 1.554876, percent error 30.40\n",
      "Epoch    34, train loss 0.004191, train error 0.00,  val loss 1.565369, percent error 30.70\n",
      "Epoch    35, train loss 0.003931, train error 0.00,  val loss 1.579656, percent error 30.60\n",
      "Epoch    36, train loss 0.003696, train error 0.00,  val loss 1.592124, percent error 30.50\n",
      "Epoch    37, train loss 0.003488, train error 0.00,  val loss 1.603216, percent error 30.70\n",
      "Epoch    38, train loss 0.003299, train error 0.00,  val loss 1.614485, percent error 30.40\n",
      "Epoch    39, train loss 0.003135, train error 0.00,  val loss 1.623885, percent error 30.70\n",
      "Epoch    40, train loss 0.003053, train error 0.00,  val loss 1.631116, percent error 30.70\n",
      "Epoch    41, train loss 0.002980, train error 0.00,  val loss 1.636529, percent error 30.60\n",
      "Epoch    42, train loss 0.002912, train error 0.00,  val loss 1.641594, percent error 30.70\n",
      "Epoch    43, train loss 0.002844, train error 0.00,  val loss 1.646785, percent error 30.60\n",
      "Epoch    44, train loss 0.002783, train error 0.00,  val loss 1.651502, percent error 30.60\n",
      "Epoch    45, train loss 0.002722, train error 0.00,  val loss 1.656191, percent error 30.70\n",
      "Epoch    46, train loss 0.002665, train error 0.00,  val loss 1.659851, percent error 30.60\n",
      "Epoch    47, train loss 0.002609, train error 0.00,  val loss 1.664280, percent error 30.70\n",
      "Epoch    48, train loss 0.002555, train error 0.00,  val loss 1.668684, percent error 30.70\n",
      "Epoch    49, train loss 0.002504, train error 0.00,  val loss 1.672763, percent error 30.70\n",
      "Epoch    50, train loss 0.002454, train error 0.00,  val loss 1.677880, percent error 30.80\n",
      "Epoch    51, train loss 0.002407, train error 0.00,  val loss 1.682081, percent error 30.70\n",
      "Epoch    52, train loss 0.002361, train error 0.00,  val loss 1.685349, percent error 30.70\n",
      "Epoch    53, train loss 0.002317, train error 0.00,  val loss 1.689972, percent error 30.70\n",
      "Epoch    54, train loss 0.002273, train error 0.00,  val loss 1.693243, percent error 30.80\n",
      "Epoch    55, train loss 0.002233, train error 0.00,  val loss 1.698392, percent error 30.80\n",
      "Epoch    56, train loss 0.002192, train error 0.00,  val loss 1.701622, percent error 30.90\n",
      "Epoch    57, train loss 0.002153, train error 0.00,  val loss 1.705439, percent error 31.00\n",
      "Epoch    58, train loss 0.002116, train error 0.00,  val loss 1.709675, percent error 31.00\n",
      "Epoch    59, train loss 0.002080, train error 0.00,  val loss 1.712812, percent error 31.20\n",
      "Epoch    60, train loss 0.002062, train error 0.00,  val loss 1.714683, percent error 31.00\n",
      "Epoch    61, train loss 0.002045, train error 0.00,  val loss 1.716376, percent error 31.00\n",
      "Epoch    62, train loss 0.002028, train error 0.00,  val loss 1.718240, percent error 31.00\n",
      "Epoch    63, train loss 0.002011, train error 0.00,  val loss 1.720228, percent error 30.90\n",
      "Epoch    64, train loss 0.001995, train error 0.00,  val loss 1.721746, percent error 30.90\n",
      "Epoch    65, train loss 0.001979, train error 0.00,  val loss 1.723454, percent error 31.10\n",
      "Epoch    66, train loss 0.001963, train error 0.00,  val loss 1.725285, percent error 31.10\n",
      "Epoch    67, train loss 0.001947, train error 0.00,  val loss 1.727323, percent error 30.90\n",
      "Epoch    68, train loss 0.001932, train error 0.00,  val loss 1.728634, percent error 31.10\n",
      "Epoch    69, train loss 0.001917, train error 0.00,  val loss 1.730880, percent error 31.00\n",
      "Epoch    70, train loss 0.001902, train error 0.00,  val loss 1.732444, percent error 31.00\n",
      "Epoch    71, train loss 0.001887, train error 0.00,  val loss 1.733820, percent error 31.10\n",
      "Epoch    72, train loss 0.001872, train error 0.00,  val loss 1.735772, percent error 31.10\n",
      "Epoch    73, train loss 0.001858, train error 0.00,  val loss 1.736887, percent error 30.90\n",
      "Epoch    74, train loss 0.001844, train error 0.00,  val loss 1.738916, percent error 31.00\n",
      "Epoch    75, train loss 0.001830, train error 0.00,  val loss 1.741127, percent error 30.90\n",
      "Epoch    76, train loss 0.001816, train error 0.00,  val loss 1.742344, percent error 31.10\n",
      "Epoch    77, train loss 0.001803, train error 0.00,  val loss 1.743625, percent error 31.00\n",
      "Epoch    78, train loss 0.001789, train error 0.00,  val loss 1.745693, percent error 31.00\n",
      "Epoch    79, train loss 0.001776, train error 0.00,  val loss 1.746904, percent error 31.00\n",
      "Epoch    80, train loss 0.001769, train error 0.00,  val loss 1.747812, percent error 31.00\n",
      "Epoch    81, train loss 0.001763, train error 0.00,  val loss 1.748618, percent error 31.00\n",
      "Epoch    82, train loss 0.001756, train error 0.00,  val loss 1.749393, percent error 31.00\n",
      "Epoch    83, train loss 0.001750, train error 0.00,  val loss 1.750069, percent error 31.00\n",
      "Epoch    84, train loss 0.001744, train error 0.00,  val loss 1.751096, percent error 31.00\n",
      "Epoch    85, train loss 0.001738, train error 0.00,  val loss 1.751728, percent error 31.00\n",
      "Epoch    86, train loss 0.001731, train error 0.00,  val loss 1.752617, percent error 31.00\n",
      "Epoch    87, train loss 0.001725, train error 0.00,  val loss 1.753200, percent error 31.00\n",
      "Epoch    88, train loss 0.001719, train error 0.00,  val loss 1.754327, percent error 31.00\n",
      "Epoch    89, train loss 0.001713, train error 0.00,  val loss 1.754798, percent error 31.00\n",
      "Epoch    90, train loss 0.001707, train error 0.00,  val loss 1.755687, percent error 31.00\n",
      "Epoch    91, train loss 0.001701, train error 0.00,  val loss 1.756325, percent error 31.00\n",
      "Epoch    92, train loss 0.001695, train error 0.00,  val loss 1.757255, percent error 31.00\n",
      "Epoch    93, train loss 0.001689, train error 0.00,  val loss 1.758024, percent error 31.00\n",
      "Epoch    94, train loss 0.001683, train error 0.00,  val loss 1.758829, percent error 31.00\n",
      "Epoch    95, train loss 0.001677, train error 0.00,  val loss 1.759341, percent error 31.00\n",
      "Epoch    96, train loss 0.001671, train error 0.00,  val loss 1.760252, percent error 31.00\n",
      "Epoch    97, train loss 0.001666, train error 0.00,  val loss 1.760961, percent error 31.00\n",
      "Epoch    98, train loss 0.001660, train error 0.00,  val loss 1.761795, percent error 31.00\n",
      "Epoch    99, train loss 0.001654, train error 0.00,  val loss 1.762525, percent error 31.00\n"
     ]
    }
   ],
   "source": [
    "#Define the model\n",
    "model = ResidualNetwork(40, 10)\n",
    "\n",
    "# choose cross entropy loss function (equation 5.24 in the loss notes)\n",
    "loss_function = nn.CrossEntropyLoss()\n",
    "# construct SGD optimizer and initialize learning rate and momentum\n",
    "optimizer = torch.optim.SGD(model.parameters(), lr = 0.05, momentum=0.9)\n",
    "# object that decreases learning rate by half every 20 epochs\n",
    "scheduler = StepLR(optimizer, step_size=20, gamma=0.5)\n",
    "# convert data to torch tensors\n",
    "x_train = torch.tensor(train_data_x.transpose().astype('float32'))\n",
    "y_train = torch.tensor(train_data_y, dtype=torch.long)\n",
    "x_val= torch.tensor(val_data_x.transpose().astype('float32'))\n",
    "y_val = torch.tensor(val_data_y, dtype=torch.long)\n",
    "\n",
    "# load the data into a class that creates the batches\n",
    "data_loader = DataLoader(TensorDataset(x_train,y_train), batch_size=100, shuffle=True, worker_init_fn=np.random.seed(1))\n",
    "\n",
    "# Initialize model weights\n",
    "model.apply(weights_init)\n",
    "\n",
    "# loop over the dataset n_epoch times\n",
    "n_epoch = 100\n",
    "# store the loss and the % correct at each epoch\n",
    "losses_train = np.zeros((n_epoch))\n",
    "errors_train = np.zeros((n_epoch))\n",
    "losses_val = np.zeros((n_epoch))\n",
    "errors_val = np.zeros((n_epoch))\n",
    "\n",
    "for epoch in range(n_epoch):\n",
    "  # loop over batches\n",
    "  for i, data in enumerate(data_loader):\n",
    "    # retrieve inputs and labels for this batch\n",
    "    x_batch, y_batch = data\n",
    "    # zero the parameter gradients\n",
    "    optimizer.zero_grad()\n",
    "    # forward pass -- calculate model output\n",
    "    pred = model(x_batch)\n",
    "    # compute the loss\n",
    "    loss = loss_function(pred, y_batch)\n",
    "    # backward pass\n",
    "    loss.backward()\n",
    "    # SGD update\n",
    "    optimizer.step()\n",
    "\n",
    "  # Run whole dataset to get statistics -- normally wouldn't do this\n",
    "  pred_train = model(x_train)\n",
    "  pred_val = model(x_val)\n",
    "  _, predicted_train_class = torch.max(pred_train.data, 1)\n",
    "  _, predicted_val_class = torch.max(pred_val.data, 1)\n",
    "  errors_train[epoch] = 100 - 100 * (predicted_train_class == y_train).float().sum() / len(y_train)\n",
    "  errors_val[epoch]= 100 - 100 * (predicted_val_class == y_val).float().sum() / len(y_val)\n",
    "  losses_train[epoch] = loss_function(pred_train, y_train).item()\n",
    "  losses_val[epoch]= loss_function(pred_val, y_val).item()\n",
    "  print(f'Epoch {epoch:5d}, train loss {losses_train[epoch]:.6f}, train error {errors_train[epoch]:3.2f},  val loss {losses_val[epoch]:.6f}, percent error {errors_val[epoch]:3.2f}')\n",
    "\n",
    "  # tell scheduler to consider updating learning rate\n",
    "  scheduler.step()"
   ]
  },
  {
   "cell_type": "code",
   "execution_count": 9,
   "metadata": {
    "id": "CcP_VyEmE2sv"
   },
   "outputs": [
    {
     "data": {
      "image/png": "[encoded data removed]",
      "text/plain": [
       "<Figure size 640x480 with 1 Axes>"
      ]
     },
     "metadata": {},
     "output_type": "display_data"
    }
   ],
   "source": [
    "# Plot the results\n",
    "fig, ax = plt.subplots()\n",
    "ax.plot(errors_train,'r-',label='train')\n",
    "ax.plot(errors_val,'b-',label='test')\n",
    "ax.set_ylim(0,100); ax.set_xlim(0,n_epoch)\n",
    "ax.set_xlabel('Epoch'); ax.set_ylabel('Error')\n",
    "ax.set_title('TrainError %3.2f, Val Error %3.2f'%(errors_train[-1],errors_val[-1]))\n",
    "ax.legend()\n",
    "plt.show()"
   ]
  },
  {
   "cell_type": "markdown",
   "metadata": {
    "id": "wMmqhmxuAx0M"
   },
   "source": [
    "The primary motivation of residual networks is to allow training of much deeper networks.   \n",
    "\n",
    "TODO: Try running this network with and without the residual connections.  Does adding the residual connections change the performance?"
   ]
  }
 ],
 "metadata": {
  "colab": {
   "authorship_tag": "ABX9TyNIY8tswL9e48d5D53aSmHO",
   "include_colab_link": true,
   "provenance": []
  },
  "kernelspec": {
   "display_name": "torch",
   "language": "python",
   "name": "python3"
  },
  "language_info": {
   "codemirror_mode": {
    "name": "ipython",
    "version": 3
   },
   "file_extension": ".py",
   "mimetype": "text/x-python",
   "name": "python",
   "nbconvert_exporter": "python",
   "pygments_lexer": "ipython3",
   "version": "3.12.4"
  }
 },
 "nbformat": 4,
 "nbformat_minor": 0
}
